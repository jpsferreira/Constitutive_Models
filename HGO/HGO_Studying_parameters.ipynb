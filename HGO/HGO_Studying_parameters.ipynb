{
 "cells": [
  {
   "cell_type": "code",
   "execution_count": 2,
   "id": "d03b6fac",
   "metadata": {},
   "outputs": [],
   "source": [
    "# 18/02/2022 Luís\n",
    "\n",
    "# In this notebook I'm plotting many curves while varying different parameters of the HGO model. This will be done\n",
    "# both for uniaxial and equibiaxial loads.\n",
    "\n",
    "# The goal is to understand better each parameter and their effects on the curves.\n",
    "\n",
    "# It will also allow me to better set the minimum and maximum values for \n",
    "# each of the parameters when generating data for the Machine Learning model.\n",
    "\n",
    "# Will write some conclusions in the end of each analysis"
   ]
  },
  {
   "cell_type": "code",
   "execution_count": 3,
   "id": "4742b87a",
   "metadata": {},
   "outputs": [],
   "source": [
    "import pandas as pd\n",
    "import random\n",
    "\n",
    "import sympy as sym\n",
    "from sympy.physics.quantum import TensorProduct\n",
    "\n",
    "import numpy as np\n",
    "from matplotlib import pyplot as plt\n",
    "\n",
    "pd.set_option('display.max_rows', None)"
   ]
  },
  {
   "cell_type": "code",
   "execution_count": 4,
   "id": "1e1a96bd",
   "metadata": {},
   "outputs": [],
   "source": [
    "def double_dot(A,B):\n",
    "    # Double-dot operation between two 3x3 matrices\n",
    "    sum = 0\n",
    "    for i in range(3):\n",
    "        for j in range(3):\n",
    "                sum = sum + A[i,j] * B[i,j]\n",
    "    return sum\n",
    "\n",
    "\n",
    "def theta_to_a01(theta):\n",
    "    #defines a unit vector in the xy plane, theta degrees from the yy axis\n",
    "    return [-np.sin(np.deg2rad(theta)),np.cos(np.deg2rad(theta)),0]\n",
    "\n",
    "\n",
    "def HGO(params, stretch, load):\n",
    "    #params = [c, κ, k1, k2, theta]\n",
    "    #returns cauchy stress at yy direction if load == \"uniaxial\"\n",
    "    #returns cauchy stress at xx and yy directions if load == \"equibiaxial\"\n",
    "    \n",
    "    if load != 'uniaxial' and load != 'equibiaxial':\n",
    "        raise ValueError(\"Load string isn't acceptable\")\n",
    "    \n",
    "    #3x3 Identity Matrix\n",
    "    I = sym.Matrix([[1,0,0],[0,1,0],[0,0,1]])\n",
    "    \n",
    "    if load == \"uniaxial\":\n",
    "        # Deformation Gradient assuming incompressibility and a uniaxial load\n",
    "        F = sym.Matrix([[1/(np.sqrt(stretch)),0,0], [0,stretch,0], [0,0,1/(np.sqrt(stretch))]])\n",
    "        \n",
    "  #  if load == \"equibiaxial\":\n",
    "        # Deformation Gradient assuming incompressibility and a equibiaxial load\n",
    "  #      F = sym.Matrix([[stretch,0,0], [0,stretch,0], [0,0,1/(stretch**2)]])\n",
    "        \n",
    "    Ft=sym.transpose(F)\n",
    "    Jac=sym.det(F)\n",
    "    \n",
    "    # Modified Deformation Gradient\n",
    "    Fm = Jac**(-1/3) * I * F\n",
    "    Fmt=sym.transpose(Fm)\n",
    "    \n",
    "    # Modified Right Cauchy-Green Deformation Tensor with values according to F: 'Cmv'\n",
    "    Cmv=Fmt*Fm\n",
    "\n",
    "    # Symbolic Modified Right Cauchy-Green Deformation Tensor 'Cm'\n",
    "    Cm11 = sym.Symbol('Cm11')\n",
    "    Cm12 = sym.Symbol('Cm12')\n",
    "    Cm13 = sym.Symbol('Cm13')\n",
    "    Cm21 = sym.Symbol('Cm21')\n",
    "    Cm22 = sym.Symbol('Cm22')\n",
    "    Cm23 = sym.Symbol('Cm23')\n",
    "    Cm31 = sym.Symbol('Cm31')\n",
    "    Cm32 = sym.Symbol('Cm32')\n",
    "    Cm33 = sym.Symbol('Cm33')\n",
    "    Cm = sym.Matrix([[Cm11,Cm12,Cm13], [Cm21,Cm22,Cm23], [Cm31,Cm32,Cm33]])  \n",
    "    \n",
    "    # Compute the invariant im1  of the tensor Cm\n",
    "    im1=sym.trace(Cm)\n",
    "    \n",
    "    #symbolic Neo-Hookean parameter c\n",
    "    c = sym.Symbol('c')\n",
    "    \n",
    "    # symbolic dispersion parameter κ (0 < κ < 1/3) (the symbol is the greek letter 'kappa')\n",
    "    κ = sym.Symbol('κ')\n",
    "    \n",
    "    # symbolic material parameters k1 and k2 (k1>0; k2>0)\n",
    "    k1=sym.Symbol('k1')\n",
    "    k2=sym.Symbol('k2')\n",
    "    \n",
    "    # Unit vector representing the direction of the fibres in the stress free configuration\n",
    "    # params[4] = angle theta between the mean orientation of the fibers and the yy axis.\n",
    "    a01_list = theta_to_a01(params[4])\n",
    "    a01 = sym.Matrix(a01_list)\n",
    "    \n",
    "    # Structure Tensors H1, which depend on κ and a01\n",
    "    \n",
    "    if double_dot(Cmv, TensorProduct(a01,sym.transpose(a01))) > 1:   # condition to only allow tensile stress\n",
    "        H1 = κ*I + (1-3*κ)*(TensorProduct(a01,sym.transpose(a01)))\n",
    "    else:\n",
    "        H1 = κ*I\n",
    "        \n",
    "    E1 = double_dot(H1,Cm) - 1\n",
    "    \n",
    "    #alternative: for debbugging \n",
    "    #m0 =TensorProduct(a01,sym.transpose(a01))\n",
    "    #im4 = double_dot(Cm,m0) #pseudo-invariant 4. very important measure. it tells us the squared stretch of the fibers\n",
    "    #E1 = im4*(1-3*κ) + κ*im1-1\n",
    "    \n",
    "    #Generate SEF (Strain Energy Function)\n",
    "    sef= 0.5 * c * (im1 - 3) + (k1/(2*k2)) * (sym.exp(k2*E1*E1) - 1)\n",
    "    \n",
    "    #Second Piola Kirchoff Stresses\n",
    "    S11=2*sym.diff(sef,Cm11)\n",
    "    S12=2*sym.diff(sef,Cm12)\n",
    "    S13=2*sym.diff(sef,Cm13)\n",
    "    S21=2*sym.diff(sef,Cm21)\n",
    "    S22=2*sym.diff(sef,Cm22)\n",
    "    S23=2*sym.diff(sef,Cm23)\n",
    "    S31=2*sym.diff(sef,Cm31)\n",
    "    S32=2*sym.diff(sef,Cm32)\n",
    "    S33=2*sym.diff(sef,Cm33)\n",
    "    S = sym.Matrix([[S11,S12,S13], [S21,S22,S23], [S31,S32,S33]])\n",
    "    \n",
    "    \n",
    "    T = (1/Jac)*(F*S*Ft) # cauchy stresses with no BCs\n",
    "    T = T - (I*T[2,2]) # imposing of boundary conditions\n",
    "    \n",
    "    T=T.subs([(Cm11, Cmv[0,0]), (Cm12, Cmv[0,1]), \n",
    "                                  (Cm13, Cmv[0,2]),(Cm21, Cmv[1,0]), \n",
    "                                  (Cm22, Cmv[1,1]), (Cm23, Cmv[1,2]),\n",
    "                                  (Cm31, Cmv[2,0]), (Cm32, Cmv[2,1]), \n",
    "                                  (Cm33, Cmv[2,2]),(c,params[0]), \n",
    "                                  (κ,params[1]),(k1,params[2]),(k2,params[3])])\n",
    "    \n",
    "    if load == 'uniaxial':\n",
    "        return T[1,1]\n",
    "\n",
    "def get_curve(params, stretch_min, stretch_max, ninc, load):\n",
    "    #stores HGO loading runs between a minimum and a maximum stretch\n",
    "    \n",
    "    if load == \"uniaxial\":\n",
    "        stretches=np.linspace(stretch_min,stretch_max,ninc)\n",
    "        stresses=[HGO(params, stretch, load) for stretch in stretches]\n",
    "        return np.asarray(stresses)"
   ]
  },
  {
   "cell_type": "code",
   "execution_count": null,
   "id": "b730ff52",
   "metadata": {},
   "outputs": [],
   "source": []
  },
  {
   "cell_type": "code",
   "execution_count": 5,
   "id": "9107e755",
   "metadata": {},
   "outputs": [],
   "source": [
    "ninc = 100\n",
    "\n",
    "x = np.linspace(1.0,1.6,ninc)"
   ]
  },
  {
   "cell_type": "code",
   "execution_count": null,
   "id": "66de379e",
   "metadata": {},
   "outputs": [],
   "source": []
  },
  {
   "cell_type": "markdown",
   "id": "f24dd2ce",
   "metadata": {},
   "source": [
    "# Studying angle theta"
   ]
  },
  {
   "cell_type": "markdown",
   "id": "75f39a47",
   "metadata": {},
   "source": [
    "We will begin by studying the effects of the angle theta, the angle between the mean orientation of the fibers and the yy axis.\n",
    "We will do so by keeping the other parameters unitary and setting the dispersion κ as 0.1. I chose the values 30°; 45°; 60°."
   ]
  },
  {
   "cell_type": "code",
   "execution_count": 32,
   "id": "c799069e",
   "metadata": {},
   "outputs": [],
   "source": [
    "load = \"uniaxial\"\n",
    "\n",
    "c= 1.0 # pressure units\n",
    "κ = 0.1\n",
    "k1 = 1.0 # pressure units\n",
    "k2 = 1.0\n",
    "\n",
    "theta = 30 # degrees\n",
    "params = [c, κ, k1, k2, theta]\n",
    "y1 = np.array(get_curve(params,1.0,1.6,100,load))\n",
    "\n",
    "theta = 45 # degrees\n",
    "params = [c, κ, k1, k2, theta]\n",
    "y2 = np.array(get_curve(params,1.0,1.6,100,load))\n",
    "\n",
    "theta = 60 # degrees\n",
    "params = [c, κ, k1, k2, theta]\n",
    "y3 = np.array(get_curve(params,1.0,1.6,100,load))"
   ]
  },
  {
   "cell_type": "code",
   "execution_count": 33,
   "id": "1822d1d9",
   "metadata": {},
   "outputs": [
    {
     "data": {
      "image/png": "[encoded data removed]",
      "text/plain": [
       "<Figure size 432x288 with 1 Axes>"
      ]
     },
     "metadata": {
      "needs_background": "light"
     },
     "output_type": "display_data"
    }
   ],
   "source": [
    "plt.plot(x,y1, label = \"θ = 30°\")\n",
    "plt.plot(x,y2, label = \"θ = 45°\")\n",
    "plt.plot(x,y3, label = \"θ = 60°\")\n",
    "\n",
    "\n",
    "plt.legend()\n",
    "plt.show()"
   ]
  },
  {
   "cell_type": "markdown",
   "id": "18ef4694",
   "metadata": {},
   "source": [
    "There appears to be a discontinuity for certain angles."
   ]
  },
  {
   "cell_type": "markdown",
   "id": "42ab2beb",
   "metadata": {},
   "source": [
    "# Studying Neo-hookean parameter c"
   ]
  },
  {
   "cell_type": "markdown",
   "id": "262113b9",
   "metadata": {},
   "source": [
    "We will keep unitary parameters, a dispersion of 0.1 and an angle theta = 30°. c will take the values 10; 100; 500."
   ]
  },
  {
   "cell_type": "code",
   "execution_count": 40,
   "id": "9bc3e05f",
   "metadata": {},
   "outputs": [],
   "source": [
    "load = \"uniaxial\"\n",
    "\n",
    "κ = 0.1\n",
    "k1 = 1.0 # pressure units\n",
    "k2 = 1.0\n",
    "theta = 30 # degrees\n",
    "\n",
    "c= 10 # pressure units\n",
    "params = [c, κ, k1, k2, theta]\n",
    "y1 = np.array(get_curve(params,1.0,1.6,100,load))\n",
    "\n",
    "c= 100 # pressure units\n",
    "params = [c, κ, k1, k2, theta]\n",
    "y2 = np.array(get_curve(params,1.0,1.6,100,load))\n",
    "\n",
    "c= 500 # pressure units\n",
    "params = [c, κ, k1, k2, theta]\n",
    "y3 = np.array(get_curve(params,1.0,1.6,100,load))"
   ]
  },
  {
   "cell_type": "code",
   "execution_count": 41,
   "id": "930ba48c",
   "metadata": {},
   "outputs": [
    {
     "data": {
      "image/png": "[encoded data removed]",
      "text/plain": [
       "<Figure size 432x288 with 1 Axes>"
      ]
     },
     "metadata": {
      "needs_background": "light"
     },
     "output_type": "display_data"
    }
   ],
   "source": [
    "plt.plot(x,y1, label = \"c = 10\")\n",
    "plt.plot(x,y2, label = \"c = 100\")\n",
    "plt.plot(x,y3, label = \"c = 500\")\n",
    "\n",
    "\n",
    "plt.legend()\n",
    "plt.show()"
   ]
  },
  {
   "cell_type": "markdown",
   "id": "a5354716",
   "metadata": {},
   "source": [
    "# Studying dispersion κ"
   ]
  },
  {
   "cell_type": "markdown",
   "id": "9f4746af",
   "metadata": {},
   "source": [
    "We will keep unitary parameters and an angle theta = 30°. κ will take the values 0.0; 0.15; 1/3."
   ]
  },
  {
   "cell_type": "code",
   "execution_count": 45,
   "id": "79ba0ce0",
   "metadata": {},
   "outputs": [],
   "source": [
    "load = \"uniaxial\"\n",
    "\n",
    "c= 1.0 # pressure units\n",
    "k1 = 1.0 # pressure units\n",
    "k2 = 1.0\n",
    "theta = 30 # degrees\n",
    "\n",
    "κ= 0\n",
    "params = [c, κ, k1, k2, theta]\n",
    "y1 = np.array(get_curve(params,1.0,1.6,100,load))\n",
    "\n",
    "κ= 0.15\n",
    "params = [c, κ, k1, k2, theta]\n",
    "y2 = np.array(get_curve(params,1.0,1.6,100,load))\n",
    "\n",
    "κ= 1/3\n",
    "params = [c, κ, k1, k2, theta]\n",
    "y3 = np.array(get_curve(params,1.0,1.6,100,load))"
   ]
  },
  {
   "cell_type": "code",
   "execution_count": 46,
   "id": "46e3efa2",
   "metadata": {},
   "outputs": [
    {
     "data": {
      "image/png": "[encoded data removed]",
      "text/plain": [
       "<Figure size 432x288 with 1 Axes>"
      ]
     },
     "metadata": {
      "needs_background": "light"
     },
     "output_type": "display_data"
    }
   ],
   "source": [
    "plt.plot(x,y1, label = \"κ= 0\")\n",
    "plt.plot(x,y2, label = \"κ= 0.15\")\n",
    "plt.plot(x,y3, label = \"κ= 1/3\")\n",
    "\n",
    "\n",
    "plt.legend()\n",
    "plt.show()"
   ]
  },
  {
   "cell_type": "markdown",
   "id": "4c9ea3f8",
   "metadata": {},
   "source": [
    "# Studying parameter k1"
   ]
  },
  {
   "cell_type": "markdown",
   "id": "915e2f0d",
   "metadata": {},
   "source": [
    "We will keep unitary parameters, a dispersion of 0.1 and an angle theta = 30°. k1 will take the values 10; 100; 500"
   ]
  },
  {
   "cell_type": "code",
   "execution_count": 47,
   "id": "5133dcd4",
   "metadata": {},
   "outputs": [],
   "source": [
    "load = \"uniaxial\"\n",
    "\n",
    "c= 1.0 # pressure units\n",
    "κ = 0.1\n",
    "k2 = 1.0\n",
    "theta = 30 # degrees\n",
    "\n",
    "k1 = 10 # pressure units\n",
    "params = [c, κ, k1, k2, theta]\n",
    "y1 = np.array(get_curve(params,1.0,1.6,100,load))\n",
    "\n",
    "k1 = 100 # pressure units\n",
    "params = [c, κ, k1, k2, theta]\n",
    "y2 = np.array(get_curve(params,1.0,1.6,100,load))\n",
    "\n",
    "k1 = 500 # pressure units\n",
    "params = [c, κ, k1, k2, theta]\n",
    "y3 = np.array(get_curve(params,1.0,1.6,100,load))"
   ]
  },
  {
   "cell_type": "code",
   "execution_count": 48,
   "id": "e957a7c7",
   "metadata": {},
   "outputs": [
    {
     "data": {
      "image/png": "[encoded data removed]",
      "text/plain": [
       "<Figure size 432x288 with 1 Axes>"
      ]
     },
     "metadata": {
      "needs_background": "light"
     },
     "output_type": "display_data"
    }
   ],
   "source": [
    "plt.plot(x,y1, label = \"k1 = 10\")\n",
    "plt.plot(x,y2, label = \"k1 = 100\")\n",
    "plt.plot(x,y3, label = \"k1 = 500\")\n",
    "\n",
    "\n",
    "plt.legend()\n",
    "plt.show()"
   ]
  },
  {
   "cell_type": "markdown",
   "id": "b4d0614a",
   "metadata": {},
   "source": [
    "# Studying parameter k2"
   ]
  },
  {
   "cell_type": "markdown",
   "id": "ef60b0e2",
   "metadata": {},
   "source": [
    "We will keep unitary parameters, a dispersion of 0.1 and an angle theta = 30°. k2 will take the values 1.0; 5.0; 8.0"
   ]
  },
  {
   "cell_type": "code",
   "execution_count": 55,
   "id": "3ad64feb",
   "metadata": {},
   "outputs": [],
   "source": [
    "load = \"uniaxial\"\n",
    "\n",
    "c= 1.0 # pressure units\n",
    "κ = 0.1\n",
    "k1 = 1.0 # pressure units\n",
    "theta = 30 # degrees\n",
    "\n",
    "k2 = 1.0 # pressure units\n",
    "params = [c, κ, k1, k2, theta]\n",
    "y1 = np.array(get_curve(params,1.0,1.6,100,load))\n",
    "\n",
    "k2 = 5.0 # pressure units\n",
    "params = [c, κ, k1, k2, theta]\n",
    "y2 = np.array(get_curve(params,1.0,1.6,100,load))\n",
    "\n",
    "k2 = 8.0 # pressure units\n",
    "params = [c, κ, k1, k2, theta]\n",
    "y3 = np.array(get_curve(params,1.0,1.6,100,load))"
   ]
  },
  {
   "cell_type": "code",
   "execution_count": 57,
   "id": "2d0def50",
   "metadata": {},
   "outputs": [
    {
     "data": {
      "image/png": "[encoded data removed]",
      "text/plain": [
       "<Figure size 432x288 with 1 Axes>"
      ]
     },
     "metadata": {
      "needs_background": "light"
     },
     "output_type": "display_data"
    }
   ],
   "source": [
    "plt.plot(x,y1, label = \"k2 = 1.0\")\n",
    "plt.plot(x,y2, label = \"k2 = 5.0\")\n",
    "plt.plot(x,y3, label = \"k2 = 8.0\")\n",
    "\n",
    "\n",
    "plt.legend()\n",
    "plt.show()"
   ]
  }
 ],
 "metadata": {
  "kernelspec": {
   "display_name": "Python 3",
   "language": "python",
   "name": "python3"
  },
  "language_info": {
   "codemirror_mode": {
    "name": "ipython",
    "version": 3
   },
   "file_extension": ".py",
   "mimetype": "text/x-python",
   "name": "python",
   "nbconvert_exporter": "python",
   "pygments_lexer": "ipython3",
   "version": "3.9.5"
  }
 },
 "nbformat": 4,
 "nbformat_minor": 5
}
