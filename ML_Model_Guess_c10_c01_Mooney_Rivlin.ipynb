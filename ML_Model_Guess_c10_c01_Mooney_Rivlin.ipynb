{
 "cells": [
  {
   "cell_type": "code",
   "execution_count": 1,
   "id": "4742b87a",
   "metadata": {},
   "outputs": [],
   "source": [
    "# In this notebook, we use the Machine Learning model which has been already developed\n",
    "# to try and predict the parameters c10 and c01 of the Mooney Rivilin model from the\n",
    "# respective stress-strain curves\n",
    "\n",
    "# The number of increments for each curve has been greatly reduced.\n",
    "# The number of combinations of c10 and c01 has been increased.\n",
    "\n",
    "# Should have added some noise to the stress data. Will later update the notebook."
   ]
  },
  {
   "cell_type": "code",
   "execution_count": null,
   "id": "fcd8126f",
   "metadata": {},
   "outputs": [],
   "source": [
    "import tensorflow as tf\n",
    "from tensorflow import keras\n",
    "from tensorflow.keras import layers\n",
    "\n",
    "import ast\n",
    "import seaborn as sns\n",
    "from sklearn.model_selection import train_test_split\n",
    "\n",
    "import pandas as pd\n",
    "import random\n",
    "import sympy as sym\n",
    "import numpy as np\n",
    "from matplotlib import pyplot as plt\n",
    "\n",
    "pd.set_option('display.max_rows', None)"
   ]
  },
  {
   "cell_type": "code",
   "execution_count": 2,
   "id": "1e1a96bd",
   "metadata": {},
   "outputs": [],
   "source": [
    "def mooney_rivlin_equibiaxial(params, stretch):\n",
    "    #returns cauchy stress at xx direction (stressxx == stressyy)\n",
    "    \n",
    "    # Right Cauchy-Green Deformation Tensor 'C'\n",
    "    C11 = sym.Symbol('C11')\n",
    "    C22 = sym.Symbol('C22')\n",
    "    C33 = sym.Symbol('C33')\n",
    "    C = sym.Matrix([[C11,0,0], [0,C22,0], [0,0,C33]])  \n",
    "    \n",
    "    # Compute the invariants I1 and I2 of the tensor C\n",
    "    i1=sym.trace(C)\n",
    "    i2 = C11*C22 + C22*C33 + C33*C11\n",
    "    \n",
    "    #Generate SEF (Strain Energy Function)\n",
    "    #symbolic C10 and C01\n",
    "    c10s = sym.Symbol('c10s')\n",
    "    c01s = sym.Symbol('c01s')\n",
    "    sef=c10s*(i1-3) + c01s*(i2-3)\n",
    "    #Second Piola Kirchoff Stresses\n",
    "    S11=2*sym.diff(sef,C11)\n",
    "    S22=2*sym.diff(sef,C22)\n",
    "    S33=2*sym.diff(sef,C33)\n",
    "    S = sym.Matrix([[S11,0,0], [0,S22,0], [0,0,S33]])\n",
    "    \n",
    "    # Deformation Gradient assuming incompressibility and a equibiaxial load\n",
    "    F=sym.Matrix([[stretch,0,0], [0,stretch,0], [0,0,1/(stretch**2)]])\n",
    "    Ft=sym.transpose(F)\n",
    "    C=Ft*F\n",
    "\n",
    "    C11v=C[0,0]\n",
    "    C22v=C[1,1]\n",
    "    C33v=C[2,2]\n",
    "    \n",
    "    cauchy=(F*S*Ft) # push-forward. cauchy stresses with no BCs\n",
    "    stress=cauchy[0,0]-cauchy[2,2] # imposing of boundary conditions\n",
    "    stress_abq=sym.Matrix([[stress,0,0], [0, stress,0], [0,0,0]]) # stress11 == stress22; stress33 == 0\n",
    "    s11_val=stress_abq.subs([(C11, C11v), (C22, C22v), (C33, C33v), (c10s,params[0]), (c01s,params[1])])\n",
    "    np.array(s11_val).astype(np.float64)\n",
    "    \n",
    "    return s11_val[0,0]\n",
    "\n",
    "# The function now only returns s11_val[0,0]. This is because I\n",
    "# will not include the values of stretch at this point in the Machine Learning model. \n",
    "# All stress vectors (y) are for the same stretch vectors (x), linearly spaced from st_min to st_max.\n",
    "\n",
    "def get_curve(params,stretch_min,stretch_max,ninc):\n",
    "    #stores Mooney-Rivlin equibiaxial runs between minimum and a maximum stretch\n",
    "    lst=[mooney_rivlin_equibiaxial(params, stretch) for stretch in np.linspace(stretch_min,stretch_max,ninc)]\n",
    "    return lst"
   ]
  },
  {
   "cell_type": "code",
   "execution_count": 3,
   "id": "4ef7d1c9",
   "metadata": {},
   "outputs": [],
   "source": [
    "def plot_the_loss_curve(epochs, mse_training, mse_validation):\n",
    "\n",
    "  plt.figure()\n",
    "  plt.xlabel(\"Epoch\")\n",
    "  plt.ylabel(\"Loss\")\n",
    "\n",
    "  plt.plot(epochs[0:], mse_training[0:], label=\"Training Loss\")\n",
    "  plt.plot(epochs[0:], mse_validation[0:], label=\"Validation Loss\")\n",
    "  plt.legend()\n",
    "  \n",
    "  # We're not going to plot the first epoch, since the loss on the first epoch\n",
    "  # is often substantially greater than the loss for other epochs.\n",
    "  merged_mse_lists = mse_training[1:] + mse_validation[1:]\n",
    "  highest_loss = max(merged_mse_lists)\n",
    "  lowest_loss = min(merged_mse_lists)\n",
    "  delta = highest_loss - lowest_loss\n",
    "  print(delta)\n",
    "\n",
    "  top_of_y_axis = highest_loss + (delta * 0.05)\n",
    "  bottom_of_y_axis = lowest_loss - (delta * 0.05)\n",
    "   \n",
    "  plt.ylim([bottom_of_y_axis, top_of_y_axis])\n",
    "  plt.show() "
   ]
  },
  {
   "cell_type": "code",
   "execution_count": 4,
   "id": "e0ff9733",
   "metadata": {},
   "outputs": [],
   "source": [
    "#Initial data-----------------------------------------------------------------------------------------------------\n",
    "\n",
    "C10min=0.1     #min C10 value\n",
    "C10max=10.0    #max C10 value\n",
    "C01min=0.1     #min C01 value\n",
    "C01max=2.0     #max C01 value\n",
    "decimals=2   #number of decimal cases of C10 and C01 variables\n",
    "\n",
    "n_c10=20             #number of C10 variables\n",
    "n_c01=20             #number of C01 variables\n",
    "n = n_c10 * n_c01     #number of combinations\n",
    "#\n",
    "st_max=3.0             #applied stretch\n",
    "st_min=1.0\n",
    "ninc=25       #number of stretch increments\n",
    "#------------------------------------------------------------------------------------------------------------------"
   ]
  },
  {
   "cell_type": "code",
   "execution_count": 5,
   "id": "456f63da",
   "metadata": {},
   "outputs": [],
   "source": [
    "# Generates random values for c10 and c01\n",
    "c10_list = np.round(np.random.uniform(C10min, C10max, size=(n_c10, 1)), decimals)\n",
    "c01_list = np.round(np.random.uniform(C01min, C01max, size=(n_c01, 1)), decimals)\n",
    "params = np.array([])\n",
    "\n",
    "# Computes the n combinations of c10 and c01 values\n",
    "for i in c10_list:\n",
    "    for j in c01_list:\n",
    "        params = np.append(params, np.array([i,j]))\n",
    "params = params.reshape(-1, 2)"
   ]
  },
  {
   "cell_type": "code",
   "execution_count": 42,
   "id": "73afc9c7",
   "metadata": {},
   "outputs": [],
   "source": [
    "# Append the combinations to a DataFrame\n",
    "\n",
    "df = pd.DataFrame(params[:,0], columns = ['c10'])\n",
    "df['c01'] = params[:,1]\n",
    "\n",
    "# Later I will deal with duplicates"
   ]
  },
  {
   "cell_type": "code",
   "execution_count": 7,
   "id": "196e33e5",
   "metadata": {},
   "outputs": [
    {
     "data": {
      "text/html": [
       "<div>\n",
       "<style scoped>\n",
       "    .dataframe tbody tr th:only-of-type {\n",
       "        vertical-align: middle;\n",
       "    }\n",
       "\n",
       "    .dataframe tbody tr th {\n",
       "        vertical-align: top;\n",
       "    }\n",
       "\n",
       "    .dataframe thead th {\n",
       "        text-align: right;\n",
       "    }\n",
       "</style>\n",
       "<table border=\"1\" class=\"dataframe\">\n",
       "  <thead>\n",
       "    <tr style=\"text-align: right;\">\n",
       "      <th></th>\n",
       "      <th>c10</th>\n",
       "      <th>c01</th>\n",
       "      <th>data</th>\n",
       "    </tr>\n",
       "  </thead>\n",
       "  <tbody>\n",
       "    <tr>\n",
       "      <th>0</th>\n",
       "      <td>6.1</td>\n",
       "      <td>1.19</td>\n",
       "      <td>[0, 6.71074560764543, 12.6809718108710, 18.352...</td>\n",
       "    </tr>\n",
       "    <tr>\n",
       "      <th>1</th>\n",
       "      <td>6.1</td>\n",
       "      <td>0.70</td>\n",
       "      <td>[0, 6.19595941412326, 11.5854008232167, 16.587...</td>\n",
       "    </tr>\n",
       "    <tr>\n",
       "      <th>2</th>\n",
       "      <td>6.1</td>\n",
       "      <td>1.48</td>\n",
       "      <td>[0, 7.01541498748508, 13.3293709668297, 19.397...</td>\n",
       "    </tr>\n",
       "    <tr>\n",
       "      <th>3</th>\n",
       "      <td>6.1</td>\n",
       "      <td>0.19</td>\n",
       "      <td>[0, 5.66016153923284, 10.4451126523928, 14.749...</td>\n",
       "    </tr>\n",
       "    <tr>\n",
       "      <th>4</th>\n",
       "      <td>6.1</td>\n",
       "      <td>1.72</td>\n",
       "      <td>[0, 7.26755516390411, 13.8659771648644, 20.262...</td>\n",
       "    </tr>\n",
       "    <tr>\n",
       "      <th>5</th>\n",
       "      <td>6.1</td>\n",
       "      <td>1.10</td>\n",
       "      <td>[0, 6.61619304148830, 12.4797444866080, 18.028...</td>\n",
       "    </tr>\n",
       "    <tr>\n",
       "      <th>6</th>\n",
       "      <td>6.1</td>\n",
       "      <td>1.32</td>\n",
       "      <td>[0, 6.84732153653907, 12.9716335014732, 18.821...</td>\n",
       "    </tr>\n",
       "    <tr>\n",
       "      <th>7</th>\n",
       "      <td>6.1</td>\n",
       "      <td>1.82</td>\n",
       "      <td>[0, 7.37261357074537, 14.0895630807123, 20.622...</td>\n",
       "    </tr>\n",
       "    <tr>\n",
       "      <th>8</th>\n",
       "      <td>6.1</td>\n",
       "      <td>0.27</td>\n",
       "      <td>[0, 5.74420826470585, 10.6239813850710, 15.038...</td>\n",
       "    </tr>\n",
       "    <tr>\n",
       "      <th>9</th>\n",
       "      <td>6.1</td>\n",
       "      <td>0.20</td>\n",
       "      <td>[0, 5.67066737991697, 10.4674712439776, 14.785...</td>\n",
       "    </tr>\n",
       "  </tbody>\n",
       "</table>\n",
       "</div>"
      ],
      "text/plain": [
       "   c10   c01                                               data\n",
       "0  6.1  1.19  [0, 6.71074560764543, 12.6809718108710, 18.352...\n",
       "1  6.1  0.70  [0, 6.19595941412326, 11.5854008232167, 16.587...\n",
       "2  6.1  1.48  [0, 7.01541498748508, 13.3293709668297, 19.397...\n",
       "3  6.1  0.19  [0, 5.66016153923284, 10.4451126523928, 14.749...\n",
       "4  6.1  1.72  [0, 7.26755516390411, 13.8659771648644, 20.262...\n",
       "5  6.1  1.10  [0, 6.61619304148830, 12.4797444866080, 18.028...\n",
       "6  6.1  1.32  [0, 6.84732153653907, 12.9716335014732, 18.821...\n",
       "7  6.1  1.82  [0, 7.37261357074537, 14.0895630807123, 20.622...\n",
       "8  6.1  0.27  [0, 5.74420826470585, 10.6239813850710, 15.038...\n",
       "9  6.1  0.20  [0, 5.67066737991697, 10.4674712439776, 14.785..."
      ]
     },
     "execution_count": 7,
     "metadata": {},
     "output_type": "execute_result"
    }
   ],
   "source": [
    "#generate (x,y) data for each unique c10 at the dataframe\n",
    "df['data']=df.apply(lambda x : get_curve(x,st_min,st_max,ninc), axis=1)\n",
    "df[0:10]"
   ]
  },
  {
   "cell_type": "code",
   "execution_count": 8,
   "id": "64f564ae",
   "metadata": {},
   "outputs": [],
   "source": [
    "# This step is necessary because the Keras model won't accept sympy.core.numbers.Float type values.\n",
    "\n",
    "for i in range(df.shape[0]):\n",
    "    for j in range(ninc):\n",
    "        df.data[i][j] = float(df.data[i][j])"
   ]
  },
  {
   "cell_type": "code",
   "execution_count": 9,
   "id": "86344207",
   "metadata": {},
   "outputs": [],
   "source": [
    "test_split = 0.1 #we will use 10% of the data for testing.\n",
    "train_df, test_df = train_test_split(df, test_size = test_split)\n",
    "\n",
    "#the training data will be spllited automatically by 80/20 during training using keras framework. "
   ]
  },
  {
   "cell_type": "code",
   "execution_count": 10,
   "id": "d7427823",
   "metadata": {},
   "outputs": [
    {
     "name": "stdout",
     "output_type": "stream",
     "text": [
      "Training set:  (360, 3)\n",
      "Test set:  (40, 3)\n"
     ]
    }
   ],
   "source": [
    "# Let's check the array shapes: \n",
    "print('Training set: ',train_df.shape)\n",
    "print('Test set: ',test_df.shape)\n",
    "\n",
    "train_size = train_df.shape[0]\n",
    "test_size = test_df.shape[0]"
   ]
  },
  {
   "cell_type": "code",
   "execution_count": 11,
   "id": "90c3ecb3",
   "metadata": {},
   "outputs": [
    {
     "data": {
      "text/plain": [
       "<seaborn.axisgrid.PairGrid at 0x268edd9fc40>"
      ]
     },
     "execution_count": 11,
     "metadata": {},
     "output_type": "execute_result"
    },
    {
     "data": {
      "image/png": "[encoded data removed]",
      "text/plain": [
       "<Figure size 360x360 with 6 Axes>"
      ]
     },
     "metadata": {
      "needs_background": "light"
     },
     "output_type": "display_data"
    }
   ],
   "source": [
    "#inspect the training dataset\n",
    "sns.pairplot(train_df[['c10','c01']], diag_kind='kde')"
   ]
  },
  {
   "cell_type": "code",
   "execution_count": 12,
   "id": "a673331b",
   "metadata": {},
   "outputs": [
    {
     "data": {
      "text/html": [
       "<div>\n",
       "<style scoped>\n",
       "    .dataframe tbody tr th:only-of-type {\n",
       "        vertical-align: middle;\n",
       "    }\n",
       "\n",
       "    .dataframe tbody tr th {\n",
       "        vertical-align: top;\n",
       "    }\n",
       "\n",
       "    .dataframe thead th {\n",
       "        text-align: right;\n",
       "    }\n",
       "</style>\n",
       "<table border=\"1\" class=\"dataframe\">\n",
       "  <thead>\n",
       "    <tr style=\"text-align: right;\">\n",
       "      <th></th>\n",
       "      <th>count</th>\n",
       "      <th>mean</th>\n",
       "      <th>std</th>\n",
       "      <th>min</th>\n",
       "      <th>25%</th>\n",
       "      <th>50%</th>\n",
       "      <th>75%</th>\n",
       "      <th>max</th>\n",
       "    </tr>\n",
       "  </thead>\n",
       "  <tbody>\n",
       "    <tr>\n",
       "      <th>c10</th>\n",
       "      <td>360.0</td>\n",
       "      <td>5.271944</td>\n",
       "      <td>3.303035</td>\n",
       "      <td>0.28</td>\n",
       "      <td>1.39</td>\n",
       "      <td>6.10</td>\n",
       "      <td>8.4000</td>\n",
       "      <td>9.78</td>\n",
       "    </tr>\n",
       "    <tr>\n",
       "      <th>c01</th>\n",
       "      <td>360.0</td>\n",
       "      <td>0.839861</td>\n",
       "      <td>0.581124</td>\n",
       "      <td>0.10</td>\n",
       "      <td>0.20</td>\n",
       "      <td>0.74</td>\n",
       "      <td>1.2225</td>\n",
       "      <td>1.86</td>\n",
       "    </tr>\n",
       "  </tbody>\n",
       "</table>\n",
       "</div>"
      ],
      "text/plain": [
       "     count      mean       std   min   25%   50%     75%   max\n",
       "c10  360.0  5.271944  3.303035  0.28  1.39  6.10  8.4000  9.78\n",
       "c01  360.0  0.839861  0.581124  0.10  0.20  0.74  1.2225  1.86"
      ]
     },
     "execution_count": 12,
     "metadata": {},
     "output_type": "execute_result"
    }
   ],
   "source": [
    "train_df.describe().transpose()"
   ]
  },
  {
   "cell_type": "code",
   "execution_count": 13,
   "id": "8e0d09a0",
   "metadata": {},
   "outputs": [],
   "source": [
    "# Allocate the features and the labels in different DataFrames.\n",
    "\n",
    "train_features = train_df.copy()\n",
    "test_features = test_df.copy()\n",
    "\n",
    "train_labels = pd.DataFrame([train_features.pop('c10'), train_features.pop('c01')])\n",
    "train_labels = train_labels.T\n",
    "test_labels = pd.DataFrame([test_features.pop('c10'), test_features.pop('c01')])\n",
    "test_labels = test_labels.T"
   ]
  },
  {
   "cell_type": "code",
   "execution_count": 14,
   "id": "663a902b",
   "metadata": {},
   "outputs": [],
   "source": [
    "feature_columns = []\n",
    "\n",
    "# Will not include the values of x (in this case stretch) at this point. \n",
    "# All stress vectors (y) are for the same stretch vectors (x), linearly spaced from st_min to st_max.\n",
    "\n",
    "y_col = tf.feature_column.numeric_column(\"data\")\n",
    "feature_columns.append(y_col)\n",
    "\n",
    "my_feature_layer = tf.keras.layers.DenseFeatures(feature_columns)"
   ]
  },
  {
   "cell_type": "code",
   "execution_count": null,
   "id": "522c2069",
   "metadata": {},
   "outputs": [],
   "source": [
    "# Build the model and define its architecture."
   ]
  },
  {
   "cell_type": "code",
   "execution_count": 18,
   "id": "4f77cd3e",
   "metadata": {},
   "outputs": [],
   "source": [
    "inputs = keras.Input(shape=ninc)\n",
    "\n",
    "dense = layers.Dense(512, activation=\"relu\")\n",
    "x = dense(inputs)\n",
    "\n",
    "x = layers.Dense(512, activation=\"relu\")(x)\n",
    "outputs = layers.Dense(2)(x)\n",
    "\n",
    "model = keras.Model(inputs=inputs, outputs=outputs, name=\"model\")"
   ]
  },
  {
   "cell_type": "code",
   "execution_count": 19,
   "id": "68fb3770",
   "metadata": {},
   "outputs": [
    {
     "name": "stdout",
     "output_type": "stream",
     "text": [
      "Model: \"model\"\n",
      "_________________________________________________________________\n",
      "Layer (type)                 Output Shape              Param #   \n",
      "=================================================================\n",
      "input_1 (InputLayer)         [(None, 25)]              0         \n",
      "_________________________________________________________________\n",
      "dense (Dense)                (None, 512)               13312     \n",
      "_________________________________________________________________\n",
      "dense_1 (Dense)              (None, 512)               262656    \n",
      "_________________________________________________________________\n",
      "dense_2 (Dense)              (None, 2)                 1026      \n",
      "=================================================================\n",
      "Total params: 276,994\n",
      "Trainable params: 276,994\n",
      "Non-trainable params: 0\n",
      "_________________________________________________________________\n"
     ]
    }
   ],
   "source": [
    "model.summary()"
   ]
  },
  {
   "cell_type": "code",
   "execution_count": 20,
   "id": "fb1a3e75",
   "metadata": {},
   "outputs": [],
   "source": [
    "# Set the hyperparameters\n",
    "\n",
    "validation_split = 0.2\n",
    "learning_rate = 0.0001\n",
    "batch_size = 50\n",
    "epochs = 30"
   ]
  },
  {
   "cell_type": "code",
   "execution_count": 21,
   "id": "42a0fa85",
   "metadata": {},
   "outputs": [],
   "source": [
    "model.compile(\n",
    "    loss=\"mean_squared_error\",\n",
    "    optimizer=tf.keras.optimizers.Adam(learning_rate=learning_rate),\n",
    ")"
   ]
  },
  {
   "cell_type": "code",
   "execution_count": 22,
   "id": "1915191e",
   "metadata": {},
   "outputs": [],
   "source": [
    "# Convert the data arrays into tensors.\n",
    "\n",
    "tf_train_features = tf.constant([train_features['data']], shape=(train_size,ninc))\n",
    "\n",
    "tf_train_labels = tf.constant([np.array(train_labels)], shape=(train_size,2))\n",
    "\n",
    "tf_test_features = tf.constant([np.array(test_features['data'])], shape=(test_size,ninc))\n",
    "\n",
    "tf_test_labels = tf.constant([np.array(test_labels)], shape=(test_size,2))"
   ]
  },
  {
   "cell_type": "code",
   "execution_count": 23,
   "id": "6baa2399",
   "metadata": {},
   "outputs": [
    {
     "name": "stdout",
     "output_type": "stream",
     "text": [
      "Epoch 1/30\n",
      "6/6 [==============================] - 1s 47ms/step - loss: 20.2012 - val_loss: 14.3615\n",
      "Epoch 2/30\n",
      "6/6 [==============================] - 0s 12ms/step - loss: 8.1915 - val_loss: 8.2937\n",
      "Epoch 3/30\n",
      "6/6 [==============================] - 0s 14ms/step - loss: 3.6510 - val_loss: 2.4264\n",
      "Epoch 4/30\n",
      "6/6 [==============================] - 0s 11ms/step - loss: 1.4687 - val_loss: 0.3948\n",
      "Epoch 5/30\n",
      "6/6 [==============================] - 0s 13ms/step - loss: 0.6851 - val_loss: 0.0631\n",
      "Epoch 6/30\n",
      "6/6 [==============================] - 0s 13ms/step - loss: 0.3638 - val_loss: 0.3071\n",
      "Epoch 7/30\n",
      "6/6 [==============================] - 0s 15ms/step - loss: 0.2256 - val_loss: 0.2582\n",
      "Epoch 8/30\n",
      "6/6 [==============================] - 0s 14ms/step - loss: 0.1415 - val_loss: 0.0442\n",
      "Epoch 9/30\n",
      "6/6 [==============================] - 0s 13ms/step - loss: 0.0618 - val_loss: 0.0647\n",
      "Epoch 10/30\n",
      "6/6 [==============================] - 0s 13ms/step - loss: 0.0522 - val_loss: 0.0500\n",
      "Epoch 11/30\n",
      "6/6 [==============================] - 0s 13ms/step - loss: 0.0274 - val_loss: 0.0067\n",
      "Epoch 12/30\n",
      "6/6 [==============================] - 0s 14ms/step - loss: 0.0126 - val_loss: 0.0200\n",
      "Epoch 13/30\n",
      "6/6 [==============================] - 0s 15ms/step - loss: 0.0101 - val_loss: 0.0017\n",
      "Epoch 14/30\n",
      "6/6 [==============================] - 0s 14ms/step - loss: 0.0054 - val_loss: 0.0065\n",
      "Epoch 15/30\n",
      "6/6 [==============================] - 0s 15ms/step - loss: 0.0047 - val_loss: 0.0019\n",
      "Epoch 16/30\n",
      "6/6 [==============================] - 0s 14ms/step - loss: 0.0037 - val_loss: 0.0057\n",
      "Epoch 17/30\n",
      "6/6 [==============================] - 0s 14ms/step - loss: 0.0034 - val_loss: 0.0026\n",
      "Epoch 18/30\n",
      "6/6 [==============================] - 0s 15ms/step - loss: 0.0028 - val_loss: 0.0045\n",
      "Epoch 19/30\n",
      "6/6 [==============================] - 0s 14ms/step - loss: 0.0025 - val_loss: 0.0021\n",
      "Epoch 20/30\n",
      "6/6 [==============================] - 0s 12ms/step - loss: 0.0021 - val_loss: 0.0014\n",
      "Epoch 21/30\n",
      "6/6 [==============================] - 0s 13ms/step - loss: 0.0020 - val_loss: 0.0013\n",
      "Epoch 22/30\n",
      "6/6 [==============================] - 0s 13ms/step - loss: 0.0020 - val_loss: 0.0011\n",
      "Epoch 23/30\n",
      "6/6 [==============================] - 0s 14ms/step - loss: 0.0010 - val_loss: 6.7750e-04\n",
      "Epoch 24/30\n",
      "6/6 [==============================] - 0s 13ms/step - loss: 6.2627e-04 - val_loss: 4.4071e-04\n",
      "Epoch 25/30\n",
      "6/6 [==============================] - 0s 15ms/step - loss: 7.8873e-04 - val_loss: 7.6589e-04\n",
      "Epoch 26/30\n",
      "6/6 [==============================] - 0s 15ms/step - loss: 0.0011 - val_loss: 0.0019\n",
      "Epoch 27/30\n",
      "6/6 [==============================] - 0s 14ms/step - loss: 0.0016 - val_loss: 0.0019\n",
      "Epoch 28/30\n",
      "6/6 [==============================] - 0s 14ms/step - loss: 0.0016 - val_loss: 0.0019\n",
      "Epoch 29/30\n",
      "6/6 [==============================] - 0s 16ms/step - loss: 0.0011 - val_loss: 4.9045e-04\n",
      "Epoch 30/30\n",
      "6/6 [==============================] - 0s 15ms/step - loss: 0.0011 - val_loss: 0.0011\n",
      "12/12 - 0s - loss: 0.0014\n",
      "Test loss: 0.0013717049732804298\n"
     ]
    }
   ],
   "source": [
    "history = model.fit(tf_train_features, tf_train_labels, batch_size=batch_size, epochs=epochs, validation_split=validation_split)\n",
    "\n",
    "test_scores = model.evaluate(tf_train_features, tf_train_labels, verbose=2)\n",
    "print(\"Test loss:\", test_scores)"
   ]
  },
  {
   "cell_type": "code",
   "execution_count": 24,
   "id": "92e9c44d",
   "metadata": {},
   "outputs": [
    {
     "name": "stdout",
     "output_type": "stream",
     "text": [
      "8.293227086775005\n"
     ]
    },
    {
     "data": {
      "image/png": "[encoded data removed]",
      "text/plain": [
       "<Figure size 432x288 with 1 Axes>"
      ]
     },
     "metadata": {
      "needs_background": "light"
     },
     "output_type": "display_data"
    }
   ],
   "source": [
    "epochs = history.epoch\n",
    "\n",
    "hist = history.history\n",
    "\n",
    "plot_the_loss_curve(epochs, hist[\"loss\"], \n",
    "                    hist[\"val_loss\"])"
   ]
  },
  {
   "cell_type": "code",
   "execution_count": 25,
   "id": "754b3a67",
   "metadata": {},
   "outputs": [
    {
     "data": {
      "text/plain": [
       "<tf.Tensor: shape=(40, 2), dtype=float64, numpy=\n",
       "array([[6.75, 0.1 ],\n",
       "       [9.78, 0.74],\n",
       "       [9.41, 0.74],\n",
       "       [8.94, 1.32],\n",
       "       [8.4 , 0.97],\n",
       "       [0.46, 0.2 ],\n",
       "       [9.35, 1.19],\n",
       "       [6.1 , 0.97],\n",
       "       [5.04, 1.82],\n",
       "       [9.35, 1.72],\n",
       "       [6.75, 0.74],\n",
       "       [9.41, 0.2 ],\n",
       "       [0.28, 1.82],\n",
       "       [9.41, 1.01],\n",
       "       [1.39, 0.35],\n",
       "       [3.66, 0.27],\n",
       "       [7.91, 1.86],\n",
       "       [6.65, 1.48],\n",
       "       [6.75, 0.97],\n",
       "       [9.35, 1.86],\n",
       "       [6.76, 1.32],\n",
       "       [5.04, 0.7 ],\n",
       "       [0.46, 0.97],\n",
       "       [9.41, 1.01],\n",
       "       [8.71, 1.1 ],\n",
       "       [7.91, 1.72],\n",
       "       [6.65, 0.19],\n",
       "       [8.94, 1.01],\n",
       "       [1.05, 1.19],\n",
       "       [6.76, 0.7 ],\n",
       "       [9.78, 0.7 ],\n",
       "       [8.94, 0.11],\n",
       "       [9.41, 0.19],\n",
       "       [0.28, 1.19],\n",
       "       [1.55, 1.19],\n",
       "       [8.4 , 0.74],\n",
       "       [4.36, 1.1 ],\n",
       "       [1.39, 0.7 ],\n",
       "       [6.76, 0.97],\n",
       "       [8.4 , 1.72]])>"
      ]
     },
     "execution_count": 25,
     "metadata": {},
     "output_type": "execute_result"
    }
   ],
   "source": [
    "tf_test_labels"
   ]
  },
  {
   "cell_type": "code",
   "execution_count": 26,
   "id": "93c50686",
   "metadata": {},
   "outputs": [
    {
     "data": {
      "text/plain": [
       "array([[6.7441506 , 0.08271397],\n",
       "       [9.873716  , 0.6727265 ],\n",
       "       [9.49615   , 0.67584884],\n",
       "       [8.97897   , 1.3033322 ],\n",
       "       [8.422382  , 0.933154  ],\n",
       "       [0.4619323 , 0.19995226],\n",
       "       [9.368334  , 1.1766595 ],\n",
       "       [6.1297913 , 0.9527806 ],\n",
       "       [5.0553646 , 1.804797  ],\n",
       "       [9.404422  , 1.6451463 ],\n",
       "       [6.769273  , 0.7074479 ],\n",
       "       [9.441291  , 0.18808831],\n",
       "       [0.3283754 , 1.8447255 ],\n",
       "       [9.436885  , 0.962901  ],\n",
       "       [1.4057213 , 0.33528602],\n",
       "       [3.697262  , 0.24487294],\n",
       "       [7.999043  , 1.7930039 ],\n",
       "       [6.7280498 , 1.4348325 ],\n",
       "       [6.7782574 , 0.95943344],\n",
       "       [9.42895   , 1.7970818 ],\n",
       "       [6.813082  , 1.2724484 ],\n",
       "       [5.0571127 , 0.69186676],\n",
       "       [0.48593917, 0.95481575],\n",
       "       [9.436885  , 0.962901  ],\n",
       "       [8.728013  , 1.0855073 ],\n",
       "       [8.00407   , 1.6715974 ],\n",
       "       [6.6651073 , 0.17180528],\n",
       "       [8.964309  , 0.96908844],\n",
       "       [1.0785091 , 1.1415557 ],\n",
       "       [6.781048  , 0.66450584],\n",
       "       [9.881133  , 0.6322793 ],\n",
       "       [8.92577   , 0.10145844],\n",
       "       [9.433203  , 0.17326058],\n",
       "       [0.31161106, 1.1938733 ],\n",
       "       [1.5676869 , 1.1639699 ],\n",
       "       [8.461199  , 0.6968678 ],\n",
       "       [4.406951  , 1.0531358 ],\n",
       "       [1.3926687 , 0.69902503],\n",
       "       [6.7880344 , 0.95941055],\n",
       "       [8.479634  , 1.6676854 ]], dtype=float32)"
      ]
     },
     "execution_count": 26,
     "metadata": {},
     "output_type": "execute_result"
    }
   ],
   "source": [
    "guesses = model.predict(tf_test_features)\n",
    "\n",
    "guesses"
   ]
  },
  {
   "cell_type": "code",
   "execution_count": 27,
   "id": "55a7f932",
   "metadata": {},
   "outputs": [
    {
     "data": {
      "text/plain": [
       "<tf.Tensor: shape=(40, 2), dtype=float64, numpy=\n",
       "array([[ 0.08665721, 17.28603095],\n",
       "       [ 0.95824493,  9.0910119 ],\n",
       "       [ 0.91551559,  8.66907545],\n",
       "       [ 0.43590127,  1.26271139],\n",
       "       [ 0.2664566 ,  3.79855805],\n",
       "       [ 0.42006555,  0.02387017],\n",
       "       [ 0.1960836 ,  1.12105338],\n",
       "       [ 0.48838131,  1.77519543],\n",
       "       [ 0.30485335,  0.83532674],\n",
       "       [ 0.5820514 ,  4.35196217],\n",
       "       [ 0.28552303,  4.39893426],\n",
       "       [ 0.33252769,  5.95584363],\n",
       "       [17.27692825,  1.35854339],\n",
       "       [ 0.28570542,  4.6632677 ],\n",
       "       [ 1.13102927,  4.20399393],\n",
       "       [ 1.01808876,  9.30631757],\n",
       "       [ 1.12570149,  3.60193996],\n",
       "       [ 1.17368053,  3.05186123],\n",
       "       [ 0.4186277 ,  1.08933645],\n",
       "       [ 0.84438834,  3.38269741],\n",
       "       [ 0.78523991,  3.60239238],\n",
       "       [ 0.33953758,  1.16189207],\n",
       "       [ 5.63895106,  1.56538708],\n",
       "       [ 0.28570542,  4.6632677 ],\n",
       "       [ 0.20680871,  1.31752058],\n",
       "       [ 1.18925767,  2.81410689],\n",
       "       [ 0.22717669,  9.57616975],\n",
       "       [ 0.27190983,  4.05064998],\n",
       "       [ 2.71515165,  4.07095236],\n",
       "       [ 0.3113583 ,  5.07059438],\n",
       "       [ 1.03408057,  9.67438902],\n",
       "       [ 0.15917443,  7.7650566 ],\n",
       "       [ 0.24657538,  8.8102187 ],\n",
       "       [11.28966297,  0.32548624],\n",
       "       [ 1.14109132,  2.18740551],\n",
       "       [ 0.72855722,  5.82867249],\n",
       "       [ 1.07685667,  4.26038612],\n",
       "       [ 0.19199454,  0.13928073],\n",
       "       [ 0.41471064,  1.09169606],\n",
       "       [ 0.9480272 ,  3.04154712]])>"
      ]
     },
     "execution_count": 27,
     "metadata": {},
     "output_type": "execute_result"
    }
   ],
   "source": [
    "# relative error (%)\n",
    "\n",
    "error_mat = (np.abs(tf_test_labels - model.predict(tf_test_features)) / tf_test_labels) * 100\n",
    "\n",
    "error_mat"
   ]
  },
  {
   "cell_type": "code",
   "execution_count": 38,
   "id": "cb16d01e",
   "metadata": {},
   "outputs": [],
   "source": [
    "error_avg = np.array([0.00,0.00])\n",
    "error_avg[0] = np.average(error_mat[:,0])\n",
    "error_avg[1] = np.average(error_mat[:,1])"
   ]
  },
  {
   "cell_type": "code",
   "execution_count": 40,
   "id": "c04f44f2",
   "metadata": {},
   "outputs": [
    {
     "data": {
      "text/plain": [
       "array([1.44370598, 4.25611507])"
      ]
     },
     "execution_count": 40,
     "metadata": {},
     "output_type": "execute_result"
    }
   ],
   "source": [
    "error_avg # [avg error for c10, avg error for c01]"
   ]
  },
  {
   "cell_type": "code",
   "execution_count": 45,
   "id": "804bccce",
   "metadata": {},
   "outputs": [
    {
     "data": {
      "text/plain": [
       "2.849910524730169"
      ]
     },
     "execution_count": 45,
     "metadata": {},
     "output_type": "execute_result"
    }
   ],
   "source": [
    "np.average(error_mat)"
   ]
  },
  {
   "cell_type": "code",
   "execution_count": 44,
   "id": "f951b14d",
   "metadata": {},
   "outputs": [
    {
     "data": {
      "text/plain": [
       "3.612459498789579"
      ]
     },
     "execution_count": 44,
     "metadata": {},
     "output_type": "execute_result"
    }
   ],
   "source": [
    "np.std(error_mat)"
   ]
  }
 ],
 "metadata": {
  "kernelspec": {
   "display_name": "Python 3",
   "language": "python",
   "name": "python3"
  },
  "language_info": {
   "codemirror_mode": {
    "name": "ipython",
    "version": 3
   },
   "file_extension": ".py",
   "mimetype": "text/x-python",
   "name": "python",
   "nbconvert_exporter": "python",
   "pygments_lexer": "ipython3",
   "version": "3.9.5"
  }
 },
 "nbformat": 4,
 "nbformat_minor": 5
}
