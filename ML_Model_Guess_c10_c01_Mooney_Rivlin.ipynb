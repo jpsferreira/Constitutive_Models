{
 "cells": [
  {
   "cell_type": "code",
   "execution_count": 1,
   "id": "4742b87a",
   "metadata": {},
   "outputs": [],
   "source": [
    "# 01/01/2022 Luís\n",
    "# In this notebook, we use the Machine Learning model which has been already developed\n",
    "# to try and predict the parameters c10 and c01 of the Mooney Rivilin model from the\n",
    "# respective stress-strain curves\n",
    "\n",
    "# The number of increments for each curve has been greatly reduced.\n",
    "# The number of combinations of c10 and c01 has been increased.\n",
    "\n",
    "# Should have added some noise to the stress data. Will later update the notebook.\n",
    "\n",
    "# 02/01/2022 Luís\n",
    "# I've tried to add some noise, but the model fails to perform.\n",
    "# The most probable "
   ]
  },
  {
   "cell_type": "code",
   "execution_count": 2,
   "id": "5bbba210",
   "metadata": {},
   "outputs": [],
   "source": [
    "import tensorflow as tf\n",
    "from tensorflow import keras\n",
    "from tensorflow.keras import layers\n",
    "\n",
    "import ast\n",
    "import seaborn as sns\n",
    "from sklearn.model_selection import train_test_split\n",
    "\n",
    "import pandas as pd\n",
    "import random\n",
    "import sympy as sym\n",
    "import numpy as np\n",
    "from matplotlib import pyplot as plt\n",
    "\n",
    "pd.set_option('display.max_rows', None)"
   ]
  },
  {
   "cell_type": "code",
   "execution_count": 3,
   "id": "1e1a96bd",
   "metadata": {},
   "outputs": [],
   "source": [
    "def mooney_rivlin_equibiaxial(params, stretch):\n",
    "    #returns cauchy stress at xx direction (stressxx == stressyy)\n",
    "    \n",
    "    # Right Cauchy-Green Deformation Tensor 'C'\n",
    "    C11 = sym.Symbol('C11')\n",
    "    C22 = sym.Symbol('C22')\n",
    "    C33 = sym.Symbol('C33')\n",
    "    C = sym.Matrix([[C11,0,0], [0,C22,0], [0,0,C33]])  \n",
    "    \n",
    "    # Compute the invariants I1 and I2 of the tensor C\n",
    "    i1=sym.trace(C)\n",
    "    i2 = C11*C22 + C22*C33 + C33*C11\n",
    "    \n",
    "    #Generate SEF (Strain Energy Function)\n",
    "    #symbolic C10 and C01\n",
    "    c10s = sym.Symbol('c10s')\n",
    "    c01s = sym.Symbol('c01s')\n",
    "    sef=c10s*(i1-3) + c01s*(i2-3)\n",
    "    #Second Piola Kirchoff Stresses\n",
    "    S11=2*sym.diff(sef,C11)\n",
    "    S22=2*sym.diff(sef,C22)\n",
    "    S33=2*sym.diff(sef,C33)\n",
    "    S = sym.Matrix([[S11,0,0], [0,S22,0], [0,0,S33]])\n",
    "    \n",
    "    # Deformation Gradient assuming incompressibility and a equibiaxial load\n",
    "    F=sym.Matrix([[stretch,0,0], [0,stretch,0], [0,0,1/(stretch**2)]])\n",
    "    Ft=sym.transpose(F)\n",
    "    C=Ft*F\n",
    "\n",
    "    C11v=C[0,0]\n",
    "    C22v=C[1,1]\n",
    "    C33v=C[2,2]\n",
    "    \n",
    "    cauchy=(F*S*Ft) # push-forward. cauchy stresses with no BCs\n",
    "    stress=cauchy[0,0]-cauchy[2,2] # imposing of boundary conditions\n",
    "    stress_abq=sym.Matrix([[stress,0,0], [0, stress,0], [0,0,0]]) # stress11 == stress22; stress33 == 0\n",
    "    s11_val=stress_abq.subs([(C11, C11v), (C22, C22v), (C33, C33v), (c10s,params[0]), (c01s,params[1])])\n",
    "    np.array(s11_val).astype(np.float64)\n",
    "    \n",
    "    return s11_val[0,0]\n",
    "\n",
    "# The function now only returns s11_val[0,0]. This is because I\n",
    "# will not include the values of stretch at this point in the Machine Learning model. \n",
    "# All stress vectors (y) are for the same stretch vectors (x), linearly spaced from st_min to st_max.\n",
    "\n",
    "def get_curve(params,stretch_min,stretch_max,ninc):\n",
    "    #stores Mooney-Rivlin equibiaxial runs between minimum and a maximum stretch\n",
    "    lst=[mooney_rivlin_equibiaxial(params, stretch) for stretch in np.linspace(stretch_min,stretch_max,ninc)]\n",
    "    return lst"
   ]
  },
  {
   "cell_type": "code",
   "execution_count": 4,
   "id": "d4891f7d",
   "metadata": {},
   "outputs": [],
   "source": [
    "def plot_the_loss_curve(epochs, mse_training, mse_validation):\n",
    "\n",
    "  plt.figure()\n",
    "  plt.xlabel(\"Epoch\")\n",
    "  plt.ylabel(\"Loss\")\n",
    "\n",
    "  plt.plot(epochs[0:], mse_training[0:], label=\"Training Loss\")\n",
    "  plt.plot(epochs[0:], mse_validation[0:], label=\"Validation Loss\")\n",
    "  plt.legend()\n",
    "  \n",
    "  # We're not going to plot the first epoch, since the loss on the first epoch\n",
    "  # is often substantially greater than the loss for other epochs.\n",
    "  merged_mse_lists = mse_training[1:] + mse_validation[1:]\n",
    "  highest_loss = max(merged_mse_lists)\n",
    "  lowest_loss = min(merged_mse_lists)\n",
    "  delta = highest_loss - lowest_loss\n",
    "  print(delta)\n",
    "\n",
    "  top_of_y_axis = highest_loss + (delta * 0.05)\n",
    "  bottom_of_y_axis = lowest_loss - (delta * 0.05)\n",
    "   \n",
    "  plt.ylim([bottom_of_y_axis, top_of_y_axis])\n",
    "  plt.show() "
   ]
  },
  {
   "cell_type": "code",
   "execution_count": 5,
   "id": "e0ff9733",
   "metadata": {},
   "outputs": [],
   "source": [
    "#Initial data-----------------------------------------------------------------------------------------------------\n",
    "\n",
    "C10min=0.1     #min C10 value\n",
    "C10max=10.0    #max C10 value\n",
    "C01min=0.1     #min C01 value\n",
    "C01max=2.0     #max C01 value\n",
    "decimals=2   #number of decimal cases of C10 and C01 variables\n",
    "\n",
    "n_c10=20             #number of C10 variables\n",
    "n_c01=20             #number of C01 variables\n",
    "n = n_c10 * n_c01     #number of combinations\n",
    "#\n",
    "st_max=3.0             #applied stretch\n",
    "st_min=1.0\n",
    "ninc=100      #number of stretch increments\n",
    "#------------------------------------------------------------------------------------------------------------------"
   ]
  },
  {
   "cell_type": "code",
   "execution_count": 6,
   "id": "456f63da",
   "metadata": {},
   "outputs": [],
   "source": [
    "# Generates random values for c10 and c01\n",
    "c10_list = np.round(np.random.uniform(C10min, C10max, size=(n_c10, 1)), decimals)\n",
    "c01_list = np.round(np.random.uniform(C01min, C01max, size=(n_c01, 1)), decimals)\n",
    "params = np.array([])\n",
    "\n",
    "# Computes the n combinations of c10 and c01 values\n",
    "for i in c10_list:\n",
    "    for j in c01_list:\n",
    "        params = np.append(params, np.array([i,j]))\n",
    "params = params.reshape(-1, 2)\n",
    "\n",
    "np.random.shuffle(params)"
   ]
  },
  {
   "cell_type": "code",
   "execution_count": 7,
   "id": "73afc9c7",
   "metadata": {},
   "outputs": [],
   "source": [
    "# Append the combinations to a DataFrame\n",
    "\n",
    "df = pd.DataFrame(params[:,0], columns = ['c10'])\n",
    "df['c01'] = params[:,1]\n",
    "\n",
    "# Later I will deal with duplicates"
   ]
  },
  {
   "cell_type": "code",
   "execution_count": 8,
   "id": "196e33e5",
   "metadata": {},
   "outputs": [
    {
     "data": {
      "text/html": [
       "<div>\n",
       "<style scoped>\n",
       "    .dataframe tbody tr th:only-of-type {\n",
       "        vertical-align: middle;\n",
       "    }\n",
       "\n",
       "    .dataframe tbody tr th {\n",
       "        vertical-align: top;\n",
       "    }\n",
       "\n",
       "    .dataframe thead th {\n",
       "        text-align: right;\n",
       "    }\n",
       "</style>\n",
       "<table border=\"1\" class=\"dataframe\">\n",
       "  <thead>\n",
       "    <tr style=\"text-align: right;\">\n",
       "      <th></th>\n",
       "      <th>c10</th>\n",
       "      <th>c01</th>\n",
       "      <th>data</th>\n",
       "    </tr>\n",
       "  </thead>\n",
       "  <tbody>\n",
       "    <tr>\n",
       "      <th>0</th>\n",
       "      <td>3.97</td>\n",
       "      <td>1.12</td>\n",
       "      <td>[0, 1.20892835161019, 2.37312992757219, 3.4998...</td>\n",
       "    </tr>\n",
       "    <tr>\n",
       "      <th>1</th>\n",
       "      <td>0.64</td>\n",
       "      <td>0.79</td>\n",
       "      <td>[0, 0.344206636883273, 0.684659364529703, 1.02...</td>\n",
       "    </tr>\n",
       "    <tr>\n",
       "      <th>2</th>\n",
       "      <td>5.97</td>\n",
       "      <td>1.34</td>\n",
       "      <td>[0, 1.73362225269418, 3.39803304978570, 5.0038...</td>\n",
       "    </tr>\n",
       "    <tr>\n",
       "      <th>3</th>\n",
       "      <td>6.56</td>\n",
       "      <td>1.46</td>\n",
       "      <td>[0, 1.90190665171901, 3.72769136513374, 5.4890...</td>\n",
       "    </tr>\n",
       "    <tr>\n",
       "      <th>4</th>\n",
       "      <td>5.97</td>\n",
       "      <td>1.32</td>\n",
       "      <td>[0, 1.72872218075042, 3.38811947653886, 4.9887...</td>\n",
       "    </tr>\n",
       "    <tr>\n",
       "      <th>5</th>\n",
       "      <td>6.56</td>\n",
       "      <td>1.74</td>\n",
       "      <td>[0, 1.97050765893161, 3.86648139058953, 5.6997...</td>\n",
       "    </tr>\n",
       "    <tr>\n",
       "      <th>6</th>\n",
       "      <td>2.16</td>\n",
       "      <td>1.12</td>\n",
       "      <td>[0, 0.782860587329290, 1.54428222364127, 2.288...</td>\n",
       "    </tr>\n",
       "    <tr>\n",
       "      <th>7</th>\n",
       "      <td>9.64</td>\n",
       "      <td>1.00</td>\n",
       "      <td>[0, 2.51422638595467, 4.91009405786368, 7.2038...</td>\n",
       "    </tr>\n",
       "    <tr>\n",
       "      <th>8</th>\n",
       "      <td>5.58</td>\n",
       "      <td>1.46</td>\n",
       "      <td>[0, 1.67121802796471, 3.27892299504959, 4.8331...</td>\n",
       "    </tr>\n",
       "    <tr>\n",
       "      <th>9</th>\n",
       "      <td>3.97</td>\n",
       "      <td>0.88</td>\n",
       "      <td>[0, 1.15012748828510, 2.25416704861008, 3.3191...</td>\n",
       "    </tr>\n",
       "  </tbody>\n",
       "</table>\n",
       "</div>"
      ],
      "text/plain": [
       "    c10   c01                                               data\n",
       "0  3.97  1.12  [0, 1.20892835161019, 2.37312992757219, 3.4998...\n",
       "1  0.64  0.79  [0, 0.344206636883273, 0.684659364529703, 1.02...\n",
       "2  5.97  1.34  [0, 1.73362225269418, 3.39803304978570, 5.0038...\n",
       "3  6.56  1.46  [0, 1.90190665171901, 3.72769136513374, 5.4890...\n",
       "4  5.97  1.32  [0, 1.72872218075042, 3.38811947653886, 4.9887...\n",
       "5  6.56  1.74  [0, 1.97050765893161, 3.86648139058953, 5.6997...\n",
       "6  2.16  1.12  [0, 0.782860587329290, 1.54428222364127, 2.288...\n",
       "7  9.64  1.00  [0, 2.51422638595467, 4.91009405786368, 7.2038...\n",
       "8  5.58  1.46  [0, 1.67121802796471, 3.27892299504959, 4.8331...\n",
       "9  3.97  0.88  [0, 1.15012748828510, 2.25416704861008, 3.3191..."
      ]
     },
     "execution_count": 8,
     "metadata": {},
     "output_type": "execute_result"
    }
   ],
   "source": [
    "#generate (x,y) data for each unique c10 at the dataframe\n",
    "df['data']=df.apply(lambda x : get_curve(x,st_min,st_max,ninc), axis=1)\n",
    "df[0:10]"
   ]
  },
  {
   "cell_type": "code",
   "execution_count": 9,
   "id": "ccde9cd2",
   "metadata": {},
   "outputs": [
    {
     "data": {
      "text/plain": [
       "[<matplotlib.lines.Line2D at 0x26a6167e430>]"
      ]
     },
     "execution_count": 9,
     "metadata": {},
     "output_type": "execute_result"
    },
    {
     "data": {
      "image/png": "[encoded data removed]",
      "text/plain": [
       "<Figure size 432x288 with 1 Axes>"
      ]
     },
     "metadata": {
      "needs_background": "light"
     },
     "output_type": "display_data"
    }
   ],
   "source": [
    "y = df.data[0]\n",
    "x = np.linspace(st_min,st_max,ninc)\n",
    "\n",
    "plt.plot(x,y)"
   ]
  },
  {
   "cell_type": "code",
   "execution_count": 10,
   "id": "3227ee5d",
   "metadata": {},
   "outputs": [],
   "source": [
    "# This step is necessary because the Keras model won't accept sympy.core.numbers.Float type values.\n",
    "\n",
    "for i in range(df.shape[0]):\n",
    "    for j in range(ninc):\n",
    "        df.data[i][j] = float(df.data[i][j])\n",
    "    \n",
    "    # Add noise to the data\n",
    "#    noise = 0.05\n",
    "#    df.data[i] = df.data[i] + noise * (np.random.random(len(df.data[i])) - 0.5) * (np.max(df.data[i]) - np.min(df.data[i]))\n",
    "\n",
    "# The model doesn't perform well with this level of noise (5%) probably because ninc (number of increments) is too low.\n",
    "# It takes too much time to run higher ninc in my computer."
   ]
  },
  {
   "cell_type": "code",
   "execution_count": 11,
   "id": "fe9eb802",
   "metadata": {},
   "outputs": [],
   "source": [
    "#y = df.data[0]\n",
    "#x = np.linspace(st_min,st_max,ninc)\n",
    "\n",
    "#plt.plot(x,y)"
   ]
  },
  {
   "cell_type": "code",
   "execution_count": 12,
   "id": "f124a99b",
   "metadata": {},
   "outputs": [],
   "source": [
    "test_split = 0.1 #we will use 10% of the data for testing.\n",
    "train_df, test_df = train_test_split(df, test_size = test_split)\n",
    "\n",
    "#the training data will be spllited automatically by 80/20 during training using keras framework. "
   ]
  },
  {
   "cell_type": "code",
   "execution_count": 13,
   "id": "b78637af",
   "metadata": {},
   "outputs": [
    {
     "name": "stdout",
     "output_type": "stream",
     "text": [
      "Training set:  (360, 3)\n",
      "Test set:  (40, 3)\n"
     ]
    }
   ],
   "source": [
    "# Let's check the array shapes: \n",
    "print('Training set: ',train_df.shape)\n",
    "print('Test set: ',test_df.shape)\n",
    "\n",
    "train_size = train_df.shape[0]\n",
    "test_size = test_df.shape[0]"
   ]
  },
  {
   "cell_type": "code",
   "execution_count": 14,
   "id": "ede6b9e3",
   "metadata": {},
   "outputs": [
    {
     "data": {
      "text/plain": [
       "<seaborn.axisgrid.PairGrid at 0x26a614e56a0>"
      ]
     },
     "execution_count": 14,
     "metadata": {},
     "output_type": "execute_result"
    },
    {
     "data": {
      "image/png": "[encoded data removed]",
      "text/plain": [
       "<Figure size 360x360 with 6 Axes>"
      ]
     },
     "metadata": {
      "needs_background": "light"
     },
     "output_type": "display_data"
    }
   ],
   "source": [
    "#inspect the training dataset\n",
    "sns.pairplot(train_df[['c10','c01']], diag_kind='kde')"
   ]
  },
  {
   "cell_type": "code",
   "execution_count": 15,
   "id": "ee2d16e5",
   "metadata": {},
   "outputs": [
    {
     "data": {
      "text/html": [
       "<div>\n",
       "<style scoped>\n",
       "    .dataframe tbody tr th:only-of-type {\n",
       "        vertical-align: middle;\n",
       "    }\n",
       "\n",
       "    .dataframe tbody tr th {\n",
       "        vertical-align: top;\n",
       "    }\n",
       "\n",
       "    .dataframe thead th {\n",
       "        text-align: right;\n",
       "    }\n",
       "</style>\n",
       "<table border=\"1\" class=\"dataframe\">\n",
       "  <thead>\n",
       "    <tr style=\"text-align: right;\">\n",
       "      <th></th>\n",
       "      <th>count</th>\n",
       "      <th>mean</th>\n",
       "      <th>std</th>\n",
       "      <th>min</th>\n",
       "      <th>25%</th>\n",
       "      <th>50%</th>\n",
       "      <th>75%</th>\n",
       "      <th>max</th>\n",
       "    </tr>\n",
       "  </thead>\n",
       "  <tbody>\n",
       "    <tr>\n",
       "      <th>c10</th>\n",
       "      <td>360.0</td>\n",
       "      <td>5.328306</td>\n",
       "      <td>2.736443</td>\n",
       "      <td>0.64</td>\n",
       "      <td>3.30</td>\n",
       "      <td>5.58</td>\n",
       "      <td>7.63</td>\n",
       "      <td>9.64</td>\n",
       "    </tr>\n",
       "    <tr>\n",
       "      <th>c01</th>\n",
       "      <td>360.0</td>\n",
       "      <td>1.209500</td>\n",
       "      <td>0.491707</td>\n",
       "      <td>0.40</td>\n",
       "      <td>0.88</td>\n",
       "      <td>1.26</td>\n",
       "      <td>1.71</td>\n",
       "      <td>1.94</td>\n",
       "    </tr>\n",
       "  </tbody>\n",
       "</table>\n",
       "</div>"
      ],
      "text/plain": [
       "     count      mean       std   min   25%   50%   75%   max\n",
       "c10  360.0  5.328306  2.736443  0.64  3.30  5.58  7.63  9.64\n",
       "c01  360.0  1.209500  0.491707  0.40  0.88  1.26  1.71  1.94"
      ]
     },
     "execution_count": 15,
     "metadata": {},
     "output_type": "execute_result"
    }
   ],
   "source": [
    "train_df.describe().transpose()"
   ]
  },
  {
   "cell_type": "code",
   "execution_count": 16,
   "id": "43918316",
   "metadata": {},
   "outputs": [],
   "source": [
    "# Allocate the features and the labels in different DataFrames.\n",
    "\n",
    "train_features = train_df.copy()\n",
    "test_features = test_df.copy()\n",
    "\n",
    "train_labels = pd.DataFrame([train_features.pop('c10'), train_features.pop('c01')])\n",
    "train_labels = train_labels.T\n",
    "test_labels = pd.DataFrame([test_features.pop('c10'), test_features.pop('c01')])\n",
    "test_labels = test_labels.T"
   ]
  },
  {
   "cell_type": "code",
   "execution_count": 17,
   "id": "ae4b9f8a",
   "metadata": {},
   "outputs": [],
   "source": [
    "feature_columns = []\n",
    "\n",
    "# Will not include the values of x (in this case stretch) at this point. \n",
    "# All stress vectors (y) are for the same stretch vectors (x), linearly spaced from st_min to st_max.\n",
    "\n",
    "y_col = tf.feature_column.numeric_column(\"data\")\n",
    "feature_columns.append(y_col)\n",
    "\n",
    "my_feature_layer = tf.keras.layers.DenseFeatures(feature_columns)"
   ]
  },
  {
   "cell_type": "code",
   "execution_count": 18,
   "id": "70c39d6c",
   "metadata": {},
   "outputs": [],
   "source": [
    "# Build the model and define its architecture."
   ]
  },
  {
   "cell_type": "code",
   "execution_count": 19,
   "id": "feb05025",
   "metadata": {},
   "outputs": [],
   "source": [
    "inputs = keras.Input(shape=ninc)\n",
    "\n",
    "dense = layers.Dense(512, activation=\"relu\")\n",
    "x = dense(inputs)\n",
    "\n",
    "x = layers.Dense(512, activation=\"relu\")(x)\n",
    "outputs = layers.Dense(2)(x)\n",
    "\n",
    "model = keras.Model(inputs=inputs, outputs=outputs, name=\"model\")"
   ]
  },
  {
   "cell_type": "code",
   "execution_count": 20,
   "id": "4be2dfa9",
   "metadata": {},
   "outputs": [
    {
     "name": "stdout",
     "output_type": "stream",
     "text": [
      "Model: \"model\"\n",
      "_________________________________________________________________\n",
      "Layer (type)                 Output Shape              Param #   \n",
      "=================================================================\n",
      "input_1 (InputLayer)         [(None, 100)]             0         \n",
      "_________________________________________________________________\n",
      "dense (Dense)                (None, 512)               51712     \n",
      "_________________________________________________________________\n",
      "dense_1 (Dense)              (None, 512)               262656    \n",
      "_________________________________________________________________\n",
      "dense_2 (Dense)              (None, 2)                 1026      \n",
      "=================================================================\n",
      "Total params: 315,394\n",
      "Trainable params: 315,394\n",
      "Non-trainable params: 0\n",
      "_________________________________________________________________\n"
     ]
    }
   ],
   "source": [
    "model.summary()"
   ]
  },
  {
   "cell_type": "code",
   "execution_count": 21,
   "id": "9768d5e6",
   "metadata": {},
   "outputs": [],
   "source": [
    "# Set the hyperparameters\n",
    "\n",
    "validation_split = 0.2\n",
    "learning_rate = 0.0005\n",
    "batch_size = 50\n",
    "epochs = 20"
   ]
  },
  {
   "cell_type": "code",
   "execution_count": 22,
   "id": "02680556",
   "metadata": {},
   "outputs": [],
   "source": [
    "model.compile(\n",
    "    loss=\"mean_squared_error\",\n",
    "    optimizer=tf.keras.optimizers.Adam(learning_rate=learning_rate),\n",
    ")"
   ]
  },
  {
   "cell_type": "code",
   "execution_count": 23,
   "id": "fb466b5c",
   "metadata": {},
   "outputs": [],
   "source": [
    "# Convert the data arrays into tensors.\n",
    "\n",
    "tf_train_features = tf.constant([train_features['data']], shape=(train_size,ninc))\n",
    "\n",
    "tf_train_labels = tf.constant([np.array(train_labels)], shape=(train_size,2))\n",
    "\n",
    "tf_test_features = tf.constant([np.array(test_features['data'])], shape=(test_size,ninc))\n",
    "\n",
    "tf_test_labels = tf.constant([np.array(test_labels)], shape=(test_size,2))"
   ]
  },
  {
   "cell_type": "code",
   "execution_count": 24,
   "id": "a8fac953",
   "metadata": {},
   "outputs": [
    {
     "name": "stdout",
     "output_type": "stream",
     "text": [
      "Epoch 1/20\n",
      "6/6 [==============================] - 1s 44ms/step - loss: 1433.5516 - val_loss: 848.5222\n",
      "Epoch 2/20\n",
      "6/6 [==============================] - 0s 12ms/step - loss: 478.2964 - val_loss: 150.5634\n",
      "Epoch 3/20\n",
      "6/6 [==============================] - 0s 14ms/step - loss: 182.7885 - val_loss: 11.8593\n",
      "Epoch 4/20\n",
      "6/6 [==============================] - 0s 14ms/step - loss: 95.6811 - val_loss: 11.3189\n",
      "Epoch 5/20\n",
      "6/6 [==============================] - 0s 14ms/step - loss: 51.2146 - val_loss: 32.8557\n",
      "Epoch 6/20\n",
      "6/6 [==============================] - 0s 14ms/step - loss: 29.9731 - val_loss: 31.2046\n",
      "Epoch 7/20\n",
      "6/6 [==============================] - 0s 14ms/step - loss: 17.8490 - val_loss: 17.8965\n",
      "Epoch 8/20\n",
      "6/6 [==============================] - 0s 14ms/step - loss: 9.4269 - val_loss: 2.8467\n",
      "Epoch 9/20\n",
      "6/6 [==============================] - 0s 14ms/step - loss: 3.6907 - val_loss: 0.6569\n",
      "Epoch 10/20\n",
      "6/6 [==============================] - 0s 14ms/step - loss: 2.1043 - val_loss: 2.6046\n",
      "Epoch 11/20\n",
      "6/6 [==============================] - 0s 14ms/step - loss: 1.5971 - val_loss: 1.0794\n",
      "Epoch 12/20\n",
      "6/6 [==============================] - 0s 14ms/step - loss: 0.7454 - val_loss: 0.0840\n",
      "Epoch 13/20\n",
      "6/6 [==============================] - 0s 14ms/step - loss: 0.3278 - val_loss: 0.4143\n",
      "Epoch 14/20\n",
      "6/6 [==============================] - 0s 14ms/step - loss: 0.2330 - val_loss: 0.0769\n",
      "Epoch 15/20\n",
      "6/6 [==============================] - 0s 14ms/step - loss: 0.0855 - val_loss: 0.0833\n",
      "Epoch 16/20\n",
      "6/6 [==============================] - 0s 15ms/step - loss: 0.0626 - val_loss: 0.0191\n",
      "Epoch 17/20\n",
      "6/6 [==============================] - 0s 14ms/step - loss: 0.0251 - val_loss: 0.0299\n",
      "Epoch 18/20\n",
      "6/6 [==============================] - 0s 16ms/step - loss: 0.0192 - val_loss: 0.0073\n",
      "Epoch 19/20\n",
      "6/6 [==============================] - 0s 16ms/step - loss: 0.0094 - val_loss: 0.0154\n",
      "Epoch 20/20\n",
      "6/6 [==============================] - 0s 17ms/step - loss: 0.0086 - val_loss: 0.0051\n",
      "12/12 - 0s - loss: 0.0048\n",
      "Test loss: 0.0048256926238536835\n"
     ]
    }
   ],
   "source": [
    "history = model.fit(tf_train_features, tf_train_labels, batch_size=batch_size, epochs=epochs, validation_split=validation_split)\n",
    "\n",
    "test_scores = model.evaluate(tf_train_features, tf_train_labels, verbose=2)\n",
    "print(\"Test loss:\", test_scores)"
   ]
  },
  {
   "cell_type": "code",
   "execution_count": 25,
   "id": "1f7a020f",
   "metadata": {},
   "outputs": [
    {
     "name": "stdout",
     "output_type": "stream",
     "text": [
      "478.2913188827224\n"
     ]
    },
    {
     "data": {
      "image/png": "[encoded data removed]",
      "text/plain": [
       "<Figure size 432x288 with 1 Axes>"
      ]
     },
     "metadata": {
      "needs_background": "light"
     },
     "output_type": "display_data"
    }
   ],
   "source": [
    "epochs = history.epoch\n",
    "\n",
    "hist = history.history\n",
    "\n",
    "plot_the_loss_curve(epochs, hist[\"loss\"], \n",
    "                    hist[\"val_loss\"])"
   ]
  },
  {
   "cell_type": "code",
   "execution_count": 26,
   "id": "43b3a00e",
   "metadata": {},
   "outputs": [
    {
     "data": {
      "text/plain": [
       "<tf.Tensor: shape=(40, 2), dtype=float64, numpy=\n",
       "array([[6.56, 0.91],\n",
       "       [5.97, 1.94],\n",
       "       [6.99, 0.88],\n",
       "       [1.51, 1.26],\n",
       "       [5.03, 1.32],\n",
       "       [8.58, 1.94],\n",
       "       [2.16, 1.53],\n",
       "       [9.64, 0.93],\n",
       "       [3.86, 0.79],\n",
       "       [3.68, 1.79],\n",
       "       [3.97, 1.46],\n",
       "       [5.58, 1.94],\n",
       "       [0.64, 1.32],\n",
       "       [0.64, 0.88],\n",
       "       [5.97, 0.4 ],\n",
       "       [5.97, 1.79],\n",
       "       [3.3 , 0.43],\n",
       "       [0.64, 1.8 ],\n",
       "       [2.24, 1.32],\n",
       "       [3.3 , 1.32],\n",
       "       [6.99, 1.34],\n",
       "       [2.24, 1.71],\n",
       "       [2.24, 1.79],\n",
       "       [3.97, 1.79],\n",
       "       [8.85, 1.71],\n",
       "       [8.85, 1.32],\n",
       "       [1.89, 1.46],\n",
       "       [0.64, 1.26],\n",
       "       [6.56, 1.32],\n",
       "       [2.24, 1.12],\n",
       "       [2.16, 1.79],\n",
       "       [7.63, 1.71],\n",
       "       [2.24, 1.94],\n",
       "       [3.68, 1.53],\n",
       "       [5.58, 1.26],\n",
       "       [7.5 , 1.74],\n",
       "       [8.85, 1.46],\n",
       "       [9.34, 1.94],\n",
       "       [1.89, 1.53],\n",
       "       [0.64, 0.91]])>"
      ]
     },
     "execution_count": 26,
     "metadata": {},
     "output_type": "execute_result"
    }
   ],
   "source": [
    "tf_test_labels"
   ]
  },
  {
   "cell_type": "code",
   "execution_count": 27,
   "id": "6fdd1a48",
   "metadata": {},
   "outputs": [
    {
     "data": {
      "text/plain": [
       "array([[6.590846  , 0.96711266],\n",
       "       [5.8481207 , 2.0235207 ],\n",
       "       [6.9758806 , 0.9646293 ],\n",
       "       [1.5134628 , 1.2740642 ],\n",
       "       [4.969224  , 1.379943  ],\n",
       "       [8.522283  , 2.0288537 ],\n",
       "       [2.1348722 , 1.5541793 ],\n",
       "       [9.492152  , 1.0256721 ],\n",
       "       [3.84601   , 0.8273994 ],\n",
       "       [3.572728  , 1.8404647 ],\n",
       "       [3.8797138 , 1.515544  ],\n",
       "       [5.459222  , 2.0178254 ],\n",
       "       [0.7230633 , 1.3251392 ],\n",
       "       [0.6738828 , 0.88841546],\n",
       "       [5.8974695 , 0.4341747 ],\n",
       "       [5.86514   , 1.8697807 ],\n",
       "       [3.3016598 , 0.46770874],\n",
       "       [0.7827042 , 1.7962371 ],\n",
       "       [2.1853988 , 1.3490154 ],\n",
       "       [3.219158  , 1.3661033 ],\n",
       "       [6.9782057 , 1.4030296 ],\n",
       "       [2.2276247 , 1.7329246 ],\n",
       "       [2.2365034 , 1.8115684 ],\n",
       "       [3.8618782 , 1.8446838 ],\n",
       "       [8.833165  , 1.7900077 ],\n",
       "       [8.889852  , 1.3868896 ],\n",
       "       [1.8814323 , 1.4792548 ],\n",
       "       [0.7156027 , 1.2662517 ],\n",
       "       [6.539773  , 1.3817321 ],\n",
       "       [2.172982  , 1.1511375 ],\n",
       "       [2.1637228 , 1.8097678 ],\n",
       "       [7.5808535 , 1.7885467 ],\n",
       "       [2.253163  , 1.9590217 ],\n",
       "       [3.586743  , 1.5811225 ],\n",
       "       [5.5426216 , 1.3181831 ],\n",
       "       [7.4430094 , 1.8195869 ],\n",
       "       [8.869885  , 1.5300056 ],\n",
       "       [9.302428  , 2.029792  ],\n",
       "       [1.8891923 , 1.5480644 ],\n",
       "       [0.67606   , 0.91932213]], dtype=float32)"
      ]
     },
     "execution_count": 27,
     "metadata": {},
     "output_type": "execute_result"
    }
   ],
   "source": [
    "guesses = model.predict(tf_test_features)\n",
    "\n",
    "guesses"
   ]
  },
  {
   "cell_type": "code",
   "execution_count": 28,
   "id": "5f3129cc",
   "metadata": {},
   "outputs": [
    {
     "data": {
      "text/plain": [
       "<tf.Tensor: shape=(40, 2), dtype=float64, numpy=\n",
       "array([[ 0.47021436,  6.27611653],\n",
       "       [ 2.04152949,  4.30519114],\n",
       "       [ 0.20199395,  9.61696506],\n",
       "       [ 0.22932331,  1.11620502],\n",
       "       [ 1.20827085,  4.54113736],\n",
       "       [ 0.67269697,  4.5800853 ],\n",
       "       [ 1.16332416,  1.58034711],\n",
       "       [ 1.53369073, 10.28732023],\n",
       "       [ 0.36243602,  4.73409786],\n",
       "       [ 2.91500221,  2.81925761],\n",
       "       [ 2.27421225,  3.80438746],\n",
       "       [ 2.16448316,  4.01161676],\n",
       "       [12.97863908,  0.38933068],\n",
       "       [ 5.29418476,  0.9563018 ],\n",
       "       [ 1.2149159 ,  8.54367167],\n",
       "       [ 1.75644956,  4.45702009],\n",
       "       [ 0.05029765,  8.76947364],\n",
       "       [22.29752727,  0.20904938],\n",
       "       [ 2.43755281,  2.19813296],\n",
       "       [ 2.44975957,  3.4926736 ],\n",
       "       [ 0.16873132,  4.70369859],\n",
       "       [ 0.55247077,  1.34061875],\n",
       "       [ 0.15609988,  1.2049374 ],\n",
       "       [ 2.72347212,  3.05495901],\n",
       "       [ 0.19022408,  4.67881348],\n",
       "       [ 0.45030023,  5.06739219],\n",
       "       [ 0.45331773,  1.31882478],\n",
       "       [11.81292124,  0.49616534],\n",
       "       [ 0.30833861,  4.67667471],\n",
       "       [ 2.99187601,  2.78013136],\n",
       "       [ 0.1723497 ,  1.10434873],\n",
       "       [ 0.64412238,  4.59337318],\n",
       "       [ 0.58763836,  0.98049936],\n",
       "       [ 2.53415445,  3.34134102],\n",
       "       [ 0.66986357,  4.61770353],\n",
       "       [ 0.75987498,  4.57395822],\n",
       "       [ 0.22469429,  4.79490234],\n",
       "       [ 0.40226718,  4.62845724],\n",
       "       [ 0.04273319,  1.18067654],\n",
       "       [ 5.63437827,  1.02441023]])>"
      ]
     },
     "execution_count": 28,
     "metadata": {},
     "output_type": "execute_result"
    }
   ],
   "source": [
    "# relative error (%)\n",
    "\n",
    "error_mat = (np.abs(tf_test_labels - model.predict(tf_test_features)) / tf_test_labels) * 100\n",
    "\n",
    "error_mat"
   ]
  },
  {
   "cell_type": "code",
   "execution_count": 29,
   "id": "1435b0ca",
   "metadata": {},
   "outputs": [],
   "source": [
    "error_avg = np.array([0.00,0.00])\n",
    "error_avg[0] = np.average(error_mat[:,0])\n",
    "error_avg[1] = np.average(error_mat[:,1])"
   ]
  },
  {
   "cell_type": "code",
   "execution_count": 30,
   "id": "1c4414bb",
   "metadata": {},
   "outputs": [
    {
     "data": {
      "text/plain": [
       "array([2.37990831, 3.67125668])"
      ]
     },
     "execution_count": 30,
     "metadata": {},
     "output_type": "execute_result"
    }
   ],
   "source": [
    "error_avg # [avg error for c10, avg error for c01]"
   ]
  },
  {
   "cell_type": "code",
   "execution_count": 31,
   "id": "ac51c3d6",
   "metadata": {},
   "outputs": [
    {
     "data": {
      "text/plain": [
       "3.0255824954120616"
      ]
     },
     "execution_count": 31,
     "metadata": {},
     "output_type": "execute_result"
    }
   ],
   "source": [
    "np.average(error_mat)"
   ]
  },
  {
   "cell_type": "code",
   "execution_count": 32,
   "id": "02f98921",
   "metadata": {},
   "outputs": [
    {
     "data": {
      "text/plain": [
       "3.52002008815835"
      ]
     },
     "execution_count": 32,
     "metadata": {},
     "output_type": "execute_result"
    }
   ],
   "source": [
    "np.std(error_mat)"
   ]
  }
 ],
 "metadata": {
  "kernelspec": {
   "display_name": "Python 3",
   "language": "python",
   "name": "python3"
  },
  "language_info": {
   "codemirror_mode": {
    "name": "ipython",
    "version": 3
   },
   "file_extension": ".py",
   "mimetype": "text/x-python",
   "name": "python",
   "nbconvert_exporter": "python",
   "pygments_lexer": "ipython3",
   "version": "3.9.5"
  }
 },
 "nbformat": 4,
 "nbformat_minor": 5
}
