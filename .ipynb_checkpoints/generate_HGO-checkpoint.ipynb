{
 "cells": [
  {
   "cell_type": "code",
   "execution_count": 87,
   "id": "35d3bd65",
   "metadata": {},
   "outputs": [],
   "source": [
    "# 14/01/2021 Luís\n",
    "\n",
    "# A first version of the HGO model.\n",
    "\n",
    "# Need to check if the function is working accordingly to literature. Then I will irove the function, for example\n",
    "# by implementing different loads as a function of a string argument of the function.\n",
    "# For now it only allows a uniaxial load, assuming incompressibility of the material.\n",
    "\n",
    "# It accepts a list of parameters params = [c, κ, k1, k2, a01, a02], a01 and a02 being 3 dimensional vectors.\n",
    "# This might not be the best solution, maybe it would be better for the function to accept more arguments\n",
    "# instead of this list of params.\n",
    "\n",
    "# Need to get the stretch-strain curves by generating some parameters, like in the other notebooks.\n",
    "\n",
    "# 16/01/2021 Luís\n",
    "\n",
    "# Corrected some bugs in the code.\n",
    "\n",
    "# The function returns the Cauchy stress tensor (T) after imposing of BC (T = T - (I*T[2,2]), because I was\n",
    "# expecting T[0,0] == T[2,2], and only T[1,1] should be different from 0.)\n",
    "\n",
    "# I have encountered some problems now. \n",
    "# I'm still not very familiar with anisotropy, so I dont't yet get\n",
    "# how can I define the F matrix for a uniaxial load if the material is anisotropic.\n",
    "# Has can be seen in the examples below, both T[0,0] and T[1,1] are different from 0, after imposing the BC.\n",
    "\n",
    "# Is the F matrix not valid? Or have I not imposed the BC correctly?\n",
    "\n",
    "# I am yet to confirm if the function is working accordingly to litterature.\n",
    "\n",
    "#17/01/2021 Joao\n",
    "# Because we are applying homogeneous deformation modes (uniaxial, biaxial, simple shear etc,..), \n",
    "# F only depends on the external loads/displacements applied to the material. Thus,  F it's the same. \n",
    "# In a more complex BVP, the F of each material point is obtained by approximation methods. For instance, the FEM. \n",
    "#\n",
    "# I made some simplifications in your code. let's start with only one family of fibres. \n",
    "# if the material has two families, we can simply add two HGO calls. \n",
    "\n",
    "#TODO: fibers do no resist compression"
   ]
  },
  {
   "cell_type": "code",
   "execution_count": null,
   "id": "d03b6fac",
   "metadata": {},
   "outputs": [],
   "source": []
  },
  {
   "cell_type": "code",
   "execution_count": null,
   "id": "eebb878c",
   "metadata": {},
   "outputs": [],
   "source": []
  },
  {
   "cell_type": "code",
   "execution_count": 88,
   "id": "4742b87a",
   "metadata": {},
   "outputs": [],
   "source": [
    "import pandas as pd\n",
    "import random\n",
    "\n",
    "import sympy as sym\n",
    "from sympy.physics.quantum import TensorProduct\n",
    "\n",
    "import numpy as np\n",
    "from matplotlib import pyplot as plt\n",
    "\n",
    "pd.set_option('display.max_rows', None)"
   ]
  },
  {
   "cell_type": "code",
   "execution_count": 109,
   "id": "1e1a96bd",
   "metadata": {},
   "outputs": [],
   "source": [
    "def HGO(params, stretch):\n",
    "    #returns cauchy stress at yy direction\n",
    "    \n",
    "    #3x3 Identity Matrix\n",
    "    I = sym.Matrix([[1,0,0],[0,1,0],[0,0,1]])\n",
    "    \n",
    "    # Modified Right Cauchy-Green Deformation Tensor 'Cm'\n",
    "    Cm11 = sym.Symbol('Cm11')\n",
    "    Cm12 = sym.Symbol('Cm12')\n",
    "    Cm13 = sym.Symbol('Cm13')\n",
    "    Cm21 = sym.Symbol('Cm21')\n",
    "    Cm22 = sym.Symbol('Cm22')\n",
    "    Cm23 = sym.Symbol('Cm23')\n",
    "    Cm31 = sym.Symbol('Cm31')\n",
    "    Cm32 = sym.Symbol('Cm32')\n",
    "    Cm33 = sym.Symbol('Cm33')\n",
    "    Cm = sym.Matrix([[Cm11,Cm12,Cm13], [Cm21,Cm22,Cm23], [Cm31,Cm32,Cm33]])  \n",
    "    \n",
    "    # Compute the invariant im1  of the tensor Cm\n",
    "    im1=sym.trace(Cm)\n",
    "    \n",
    "    \n",
    "    #symbolic Neo-Hookean parameter c\n",
    "    c = sym.Symbol('c')\n",
    "    \n",
    "    # symbolic dispersion parameter κ (0 < κ < 1/3) (the symbol is the greek letter 'kappa')\n",
    "    κ = sym.Symbol('κ')\n",
    "    \n",
    "    # symbolic material parameters k1 and k2 (k1>0; k2>0)\n",
    "    k1=sym.Symbol('k1')\n",
    "    k2=sym.Symbol('k2')\n",
    "    \n",
    "    # symbolic unit vectors representing the direction of the fibres in the stress free configuration\n",
    "    a01_1 = sym.Symbol('a01_1')\n",
    "    a01_2 = sym.Symbol('a01_2')\n",
    "    a01_3 = sym.Symbol('a01_3')\n",
    "    a01 = sym.Matrix([a01_1, a01_2, a01_3])\n",
    "\n",
    "\n",
    "    \n",
    "     # Structure Tensors H1, which depend on κ and a01\n",
    "    H1 = κ*I + (1-3*κ)*(TensorProduct(a01,sym.transpose(a01)))\n",
    "    E1 = sum(H1.multiply_elementwise(Cm)) - 1\n",
    "    \n",
    "    #alternative: for debbugging \n",
    "    #m0 =TensorProduct(a01,sym.transpose(a01))\n",
    "    #im4 = sum(Cm.multiply_elementwise(m0)) #pseudo-invariant 4. very important measure. it tells us the squared stretch of the fibers\n",
    "    #E1 = im4*(1-3*κ) + κ*im1-1\n",
    "    \n",
    "    #Generate SEF (Strain Energy Function)\n",
    "    sef= 0.5 * c * (im1 - 3) + (k1/(2*k2)) * (sym.exp(k2*E1*E1) - 1)\n",
    "    \n",
    "    \n",
    "    #Second Piola Kirchoff Stresses\n",
    "    S11=2*sym.diff(sef,Cm11)\n",
    "    S12=2*sym.diff(sef,Cm12)\n",
    "    S13=2*sym.diff(sef,Cm13)\n",
    "    S21=2*sym.diff(sef,Cm21)\n",
    "    S22=2*sym.diff(sef,Cm22)\n",
    "    S23=2*sym.diff(sef,Cm23)\n",
    "    S31=2*sym.diff(sef,Cm31)\n",
    "    S32=2*sym.diff(sef,Cm32)\n",
    "    S33=2*sym.diff(sef,Cm33)\n",
    "    S = sym.Matrix([[S11,S12,S13], [S21,S22,S23], [S31,S32,S33]])\n",
    "    \n",
    "    # Deformation Gradient assuming incompressibility and a uniaxial load\n",
    "    F=sym.Matrix([[1/(np.sqrt(stretch)),0,0], [0,stretch,0], [0,0,1/(np.sqrt(stretch))]])\n",
    "    Ft=sym.transpose(F)\n",
    "    \n",
    "    Jac=sym.det(F)\n",
    "    \n",
    "    Fm = Jac**(-1/3) * I * F\n",
    "    \n",
    "    Fmt=sym.transpose(Fm)\n",
    "    \n",
    "    Cm=Fmt*Fm\n",
    "\n",
    "    Cm11v=Cm[0,0]\n",
    "    Cm12v=Cm[0,1]\n",
    "    Cm13v=Cm[0,2]\n",
    "    Cm21v=Cm[1,0]\n",
    "    Cm22v=Cm[1,1]\n",
    "    Cm23v=Cm[1,2]\n",
    "    Cm31v=Cm[2,0]\n",
    "    Cm32v=Cm[2,1]\n",
    "    Cm33v=Cm[2,2]\n",
    "    \n",
    "    T = (1/Jac)*(F*S*Ft) # cauchy stresses with no BCs\n",
    "    T = T - (I*T[2,2]) # imposing of boundary conditions\n",
    "    \n",
    "    T=T.subs([(Cm11, Cm11v), (Cm12, Cm12v), \n",
    "                                  (Cm13, Cm13v),(Cm21, Cm21v), \n",
    "                                  (Cm22, Cm22v), (Cm23, Cm23v),\n",
    "                                  (Cm31, Cm31v), (Cm32, Cm32v), \n",
    "                                  (Cm33, Cm33v),(c,params[0]), \n",
    "                                  (κ,params[1]),(k1,params[2]),(k2,params[3]),\n",
    "                                  (a01_1,params[4][0]),(a01_2,params[4][1]),(a01_3,params[4][2])])\n",
    "    \n",
    "    return stretch, T\n",
    "\n",
    "def get_curve(params,stretch_min,stretch_max,ninc):\n",
    "    #stores HGO loading runs between a minimum and a maximum stretch\n",
    "    lst=[HGO(params, stretch) for stretch in np.linspace(stretch_min,stretch_max,ninc)]\n",
    "    return lst"
   ]
  },
  {
   "cell_type": "code",
   "execution_count": 110,
   "id": "9e051041",
   "metadata": {},
   "outputs": [
    {
     "data": {
      "text/latex": [
       "$\\displaystyle \\left[\\begin{matrix}0 & 0 & 0\\\\0 & 2.14455419836872 & 0\\\\0 & 0 & 0\\end{matrix}\\right]$"
      ],
      "text/plain": [
       "Matrix([\n",
       "[0,                0, 0],\n",
       "[0, 2.14455419836872, 0],\n",
       "[0,                0, 0]])"
      ]
     },
     "execution_count": 110,
     "metadata": {},
     "output_type": "execute_result"
    }
   ],
   "source": [
    "# Let us aplly our function to an example.\n",
    "#evaluated for unitary parameters. no dispersion\n",
    "\n",
    "c= 1 # pressure units\n",
    "κ = 0.0\n",
    "k1 = 1.0 # pressure units\n",
    "k2 = 1.0\n",
    "#let's test for a simple case: fibers oriented along the pulling direction\n",
    "a01 = [0,1,0]\n",
    "#a01 = [-np.sin(np.deg2rad(90)),np.cos(np.deg2rad(0)),0]\n",
    "\n",
    "\n",
    "params = [c, κ, k1, k2, a01]\n",
    "stretch = 1.2\n",
    "\n",
    "[stretch, stress] = HGO(params, stretch)\n",
    "\n",
    "stress # in kPa"
   ]
  },
  {
   "cell_type": "code",
   "execution_count": 111,
   "id": "476611b8",
   "metadata": {},
   "outputs": [
    {
     "data": {
      "text/latex": [
       "$\\displaystyle \\left[\\begin{matrix}-0.285601993732698 & 0 & 0\\\\0 & 0 & 0\\\\0 & 0 & 0\\end{matrix}\\right]$"
      ],
      "text/plain": [
       "Matrix([\n",
       "[-0.285601993732698, 0, 0],\n",
       "[                 0, 0, 0],\n",
       "[                 0, 0, 0]])"
      ]
     },
     "execution_count": 111,
     "metadata": {},
     "output_type": "execute_result"
    }
   ],
   "source": [
    "# Let us aplly our function to an example.\n",
    "#evaluated for unitary parameters. no dispersion\n",
    "\n",
    "c= 0 # pressure units\n",
    "κ = 0.0\n",
    "k1 = 1.0 # pressure units\n",
    "k2 = 1.0\n",
    "#let's test for a simple case: fibers oriented transversal to the pulling direction\n",
    "a01 = [1,0,0]\n",
    "#a01 = [-np.sin(np.deg2rad(90)),np.cos(np.deg2rad(0)),0]\n",
    "\n",
    "\n",
    "params = [c, κ, k1, k2, a01]\n",
    "stretch = 1.2\n",
    "\n",
    "[stretch, stress] = HGO(params, stretch)\n",
    "\n",
    "stress # in kPa\n",
    "#notice the negative value of stress_xx. it should be zero. \n",
    "#that's because we are having a E1<0 contributing to the SEF."
   ]
  },
  {
   "cell_type": "code",
   "execution_count": 112,
   "id": "07e495fd",
   "metadata": {},
   "outputs": [
    {
     "data": {
      "text/latex": [
       "$\\displaystyle \\left[\\begin{matrix}0 & 0 & 0\\\\0 & 0.621065104548954 & 0\\\\0 & 0 & 0\\end{matrix}\\right]$"
      ],
      "text/plain": [
       "Matrix([\n",
       "[0,                 0, 0],\n",
       "[0, 0.621065104548954, 0],\n",
       "[0,                 0, 0]])"
      ]
     },
     "execution_count": 112,
     "metadata": {},
     "output_type": "execute_result"
    }
   ],
   "source": [
    "# Second example, κ = 1/3, which means that the material is isotropic, i.e. Neo Hooke material.\n",
    "\n",
    "c= 1 # pressure units\n",
    "κ = 1/3\n",
    "k1 = 1.0 # pressure units\n",
    "k2 = 1.0\n",
    "a01 = [-np.sin(np.deg2rad(65)),np.cos(np.deg2rad(65)),0]\n",
    "#a02 = [np.sin(np.deg2rad(65)),np.cos(np.deg2rad(65)),0]\n",
    "\n",
    "\n",
    "params = [c, κ, k1, k2, a01]\n",
    "stretch = 1.2\n",
    "\n",
    "[stretch, stress] = HGO(params, stretch)\n",
    "\n",
    "stress # in kPa"
   ]
  },
  {
   "cell_type": "code",
   "execution_count": 113,
   "id": "21f02372",
   "metadata": {},
   "outputs": [
    {
     "data": {
      "text/latex": [
       "$\\displaystyle \\left[\\begin{matrix}-0.0289206310698513 & 0.0177276913730585 & 0\\\\0.0177276913730585 & 0.592138235285503 & 0\\\\0 & 0 & 0\\end{matrix}\\right]$"
      ],
      "text/plain": [
       "Matrix([\n",
       "[-0.0289206310698513, 0.0177276913730585, 0],\n",
       "[ 0.0177276913730585,  0.592138235285503, 0],\n",
       "[                  0,                  0, 0]])"
      ]
     },
     "execution_count": 113,
     "metadata": {},
     "output_type": "execute_result"
    }
   ],
   "source": [
    "# Second example, κ = 0.1, arbitrary orientation. \n",
    "\n",
    "\n",
    "c= 1.0 # pressure units\n",
    "κ = 0.1\n",
    "k1 = 1.0 # pressure units\n",
    "k2 = 1.0\n",
    "a01 = [-np.sin(np.deg2rad(65)),np.cos(np.deg2rad(65)),0]\n",
    "#a02 = [np.sin(np.deg2rad(65)),np.cos(np.deg2rad(65)),0]\n",
    "\n",
    "\n",
    "params = [c, κ, k1, k2, a01]\n",
    "stretch = 1.2\n",
    "\n",
    "[stretch, stress] = HGO(params, stretch)\n",
    "\n",
    "stress # in kPa"
   ]
  },
  {
   "cell_type": "code",
   "execution_count": 84,
   "id": "8713b65f",
   "metadata": {},
   "outputs": [
    {
     "ename": "NameError",
     "evalue": "name 'ninc' is not defined",
     "output_type": "error",
     "traceback": [
      "\u001b[0;31m---------------------------------------------------------------------------\u001b[0m",
      "\u001b[0;31mNameError\u001b[0m                                 Traceback (most recent call last)",
      "\u001b[0;32m/var/folders/x7/wn0m19s14b134p11_cy_rn540000gn/T/ipykernel_18399/2621618762.py\u001b[0m in \u001b[0;36m<module>\u001b[0;34m\u001b[0m\n\u001b[0;32m----> 1\u001b[0;31m \u001b[0mcheck\u001b[0m \u001b[0;34m=\u001b[0m \u001b[0mnp\u001b[0m\u001b[0;34m.\u001b[0m\u001b[0marray\u001b[0m\u001b[0;34m(\u001b[0m\u001b[0mget_curve\u001b[0m\u001b[0;34m(\u001b[0m\u001b[0;34m[\u001b[0m\u001b[0;36m7.64\u001b[0m\u001b[0;34m,\u001b[0m\u001b[0;36m0\u001b[0m\u001b[0;34m]\u001b[0m\u001b[0;34m,\u001b[0m\u001b[0;36m1\u001b[0m\u001b[0;34m,\u001b[0m\u001b[0;36m1.2\u001b[0m\u001b[0;34m,\u001b[0m\u001b[0mninc\u001b[0m\u001b[0;34m)\u001b[0m\u001b[0;34m)\u001b[0m\u001b[0;34m\u001b[0m\u001b[0;34m\u001b[0m\u001b[0m\n\u001b[0m\u001b[1;32m      2\u001b[0m \u001b[0mplt\u001b[0m\u001b[0;34m.\u001b[0m\u001b[0mplot\u001b[0m\u001b[0;34m(\u001b[0m\u001b[0mcheck\u001b[0m\u001b[0;34m[\u001b[0m\u001b[0;34m:\u001b[0m\u001b[0;34m,\u001b[0m\u001b[0;36m0\u001b[0m\u001b[0;34m]\u001b[0m\u001b[0;34m,\u001b[0m\u001b[0mcheck\u001b[0m\u001b[0;34m[\u001b[0m\u001b[0;34m:\u001b[0m\u001b[0;34m,\u001b[0m\u001b[0;36m1\u001b[0m\u001b[0;34m]\u001b[0m\u001b[0;34m)\u001b[0m\u001b[0;34m\u001b[0m\u001b[0;34m\u001b[0m\u001b[0m\n",
      "\u001b[0;31mNameError\u001b[0m: name 'ninc' is not defined"
     ]
    }
   ],
   "source": [
    "check = np.array(get_curve([7.64,0],1,1.2,ninc))\n",
    "plt.plot(check[:,0],check[:,1])"
   ]
  },
  {
   "cell_type": "code",
   "execution_count": null,
   "id": "604f5fc9",
   "metadata": {},
   "outputs": [],
   "source": []
  }
 ],
 "metadata": {
  "kernelspec": {
   "display_name": "Python 3 (ipykernel)",
   "language": "python",
   "name": "python3"
  },
  "language_info": {
   "codemirror_mode": {
    "name": "ipython",
    "version": 3
   },
   "file_extension": ".py",
   "mimetype": "text/x-python",
   "name": "python",
   "nbconvert_exporter": "python",
   "pygments_lexer": "ipython3",
   "version": "3.8.9"
  }
 },
 "nbformat": 4,
 "nbformat_minor": 5
}
