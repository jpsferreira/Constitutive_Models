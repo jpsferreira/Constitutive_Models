{
 "cells": [
  {
   "cell_type": "code",
   "execution_count": 1,
   "id": "35d3bd65",
   "metadata": {},
   "outputs": [],
   "source": [
    "# 14/01/2022 Luís\n",
    "\n",
    "# A first version of the HGO model.\n",
    "\n",
    "# Need to check if the function is working accordingly to literature. Then I will irove the function, for example\n",
    "# by implementing different loads as a function of a string argument of the function.\n",
    "# For now it only allows a uniaxial load, assuming incompressibility of the material.\n",
    "\n",
    "# It accepts a list of parameters params = [c, κ, k1, k2, a01, a02], a01 and a02 being 3 dimensional vectors.\n",
    "# This might not be the best solution, maybe it would be better for the function to accept more arguments\n",
    "# instead of this list of params.\n",
    "\n",
    "# Need to get the stretch-strain curves by generating some parameters, like in the other notebooks.\n",
    "\n",
    "# 16/01/2022 Luís\n",
    "\n",
    "# Corrected some bugs in the code.\n",
    "\n",
    "# The function returns the Cauchy stress tensor (T) after imposing of BC (T = T - (I*T[2,2]), because I was\n",
    "# expecting T[0,0] == T[2,2], and only T[1,1] should be different from 0.)\n",
    "\n",
    "# I have encountered some problems now. \n",
    "# I'm still not very familiar with anisotropy, so I dont't yet get\n",
    "# how can I define the F matrix for a uniaxial load if the material is anisotropic.\n",
    "# Has can be seen in the examples below, both T[0,0] and T[1,1] are different from 0, after imposing the BC.\n",
    "\n",
    "# Is the F matrix not valid? Or have I not imposed the BC correctly?\n",
    "\n",
    "# I am yet to confirm if the function is working accordingly to litterature.\n",
    "\n",
    "#17/01/2022 Joao\n",
    "# Because we are applying homogeneous deformation modes (uniaxial, biaxial, simple shear etc,..), \n",
    "# F only depends on the external loads/displacements applied to the material. Thus,  F it's the same. \n",
    "# In a more complex BVP, the F of each material point is obtained by approximation methods. For instance, the FEM. \n",
    "#\n",
    "# I made some simplifications in your code. let's start with only one family of fibres. \n",
    "# if the material has two families, we can simply add two HGO calls. \n",
    "\n",
    "\n",
    "# 19/01/2022 Luís\n",
    "# Now the fibers do not resist any compression. Examples with only tensile stresses remained the same.\n",
    "# Example 2 now outputs null stresses, as expected.\n",
    "\n",
    "# 11/02/2022 Luís\n",
    "# Now the HGO function accepts two strings: \"uniaxial\" and \"equibiaxial\".\n",
    "# I've generated some combinations of parameters and corresponding curves for both uniaxial and equibiaxial\n",
    "# loads (for now only 4 combinations, to reduce time spent in computations while implementing the code).\n",
    "# I probably need to think better in the min and max values of the parameters.\n",
    "\n",
    "\n",
    "# On Going: \n",
    "# Computing more curves\n",
    "# Debugging/improving"
   ]
  },
  {
   "cell_type": "code",
   "execution_count": null,
   "id": "d03b6fac",
   "metadata": {},
   "outputs": [],
   "source": []
  },
  {
   "cell_type": "code",
   "execution_count": 2,
   "id": "4742b87a",
   "metadata": {},
   "outputs": [],
   "source": [
    "import pandas as pd\n",
    "import random\n",
    "\n",
    "import sympy as sym\n",
    "from sympy.physics.quantum import TensorProduct\n",
    "\n",
    "import numpy as np\n",
    "from matplotlib import pyplot as plt\n",
    "\n",
    "pd.set_option('display.max_rows', None)"
   ]
  },
  {
   "cell_type": "code",
   "execution_count": 3,
   "id": "1e1a96bd",
   "metadata": {},
   "outputs": [],
   "source": [
    "def double_dot(A,B):\n",
    "    # Double-dot operation between two 3x3 matrices\n",
    "    sum = 0\n",
    "    for i in range(3):\n",
    "        for j in range(3):\n",
    "                sum = sum + A[i,j] * B[i,j]\n",
    "    return sum\n",
    "\n",
    "\n",
    "def HGO(params, stretch, load):\n",
    "    #returns cauchy stress at yy direction if load == \"uniaxial\"\n",
    "    #returns cauchy stress at xx and yy directions if load == \"equibiaxial\"\n",
    "    \n",
    "    if load != 'uniaxial' and load != 'equibiaxial':\n",
    "        raise ValueError(\"Load string isn't acceptable\")\n",
    "    \n",
    "    #3x3 Identity Matrix\n",
    "    I = sym.Matrix([[1,0,0],[0,1,0],[0,0,1]])\n",
    "    \n",
    "    if load == \"uniaxial\":\n",
    "        # Deformation Gradient assuming incompressibility and a uniaxial load\n",
    "        F = sym.Matrix([[1/(np.sqrt(stretch)),0,0], [0,stretch,0], [0,0,1/(np.sqrt(stretch))]])\n",
    "        \n",
    "    if load == \"equibiaxial\":\n",
    "        # Deformation Gradient assuming incompressibility and a equibiaxial load\n",
    "        F = sym.Matrix([[stretch,0,0], [0,stretch,0], [0,0,1/(stretch**2)]])\n",
    "        \n",
    "    Ft=sym.transpose(F)\n",
    "    Jac=sym.det(F)\n",
    "    \n",
    "    # Modified Deformation Gradient\n",
    "    Fm = Jac**(-1/3) * I * F\n",
    "    Fmt=sym.transpose(Fm)\n",
    "    \n",
    "    # Modified Right Cauchy-Green Deformation Tensor with values according to F: 'Cmv'\n",
    "    Cmv=Fmt*Fm\n",
    "\n",
    "    # Symbolic Modified Right Cauchy-Green Deformation Tensor 'Cm'\n",
    "    Cm11 = sym.Symbol('Cm11')\n",
    "    Cm12 = sym.Symbol('Cm12')\n",
    "    Cm13 = sym.Symbol('Cm13')\n",
    "    Cm21 = sym.Symbol('Cm21')\n",
    "    Cm22 = sym.Symbol('Cm22')\n",
    "    Cm23 = sym.Symbol('Cm23')\n",
    "    Cm31 = sym.Symbol('Cm31')\n",
    "    Cm32 = sym.Symbol('Cm32')\n",
    "    Cm33 = sym.Symbol('Cm33')\n",
    "    Cm = sym.Matrix([[Cm11,Cm12,Cm13], [Cm21,Cm22,Cm23], [Cm31,Cm32,Cm33]])  \n",
    "    \n",
    "    # Compute the invariant im1  of the tensor Cm\n",
    "    im1=sym.trace(Cm)\n",
    "    \n",
    "    #symbolic Neo-Hookean parameter c\n",
    "    c = sym.Symbol('c')\n",
    "    \n",
    "    # symbolic dispersion parameter κ (0 < κ < 1/3) (the symbol is the greek letter 'kappa')\n",
    "    κ = sym.Symbol('κ')\n",
    "    \n",
    "    # symbolic material parameters k1 and k2 (k1>0; k2>0)\n",
    "    k1=sym.Symbol('k1')\n",
    "    k2=sym.Symbol('k2')\n",
    "    \n",
    "    # Unit vector representing the direction of the fibres in the stress free configuration\n",
    "    a01_1 = params[4][0]\n",
    "    a01_2 = params[4][1]\n",
    "    a01_3 = params[4][2]\n",
    "    a01 = sym.Matrix([a01_1, a01_2, a01_3])\n",
    "    \n",
    "    # Structure Tensors H1, which depend on κ and a01\n",
    "    \n",
    "    if double_dot(Cmv, TensorProduct(a01,sym.transpose(a01))) > 1:   # condition to only allow tensile stress\n",
    "        H1 = κ*I + (1-3*κ)*(TensorProduct(a01,sym.transpose(a01)))\n",
    "    else:\n",
    "        H1 = κ*I\n",
    "        \n",
    "    E1 = double_dot(H1,Cm) - 1\n",
    "    \n",
    "    #alternative: for debbugging \n",
    "    #m0 =TensorProduct(a01,sym.transpose(a01))\n",
    "    #im4 = double_dot(Cm,m0) #pseudo-invariant 4. very important measure. it tells us the squared stretch of the fibers\n",
    "    #E1 = im4*(1-3*κ) + κ*im1-1\n",
    "    \n",
    "    #Generate SEF (Strain Energy Function)\n",
    "    sef= 0.5 * c * (im1 - 3) + (k1/(2*k2)) * (sym.exp(k2*E1*E1) - 1)\n",
    "    \n",
    "    #Second Piola Kirchoff Stresses\n",
    "    S11=2*sym.diff(sef,Cm11)\n",
    "    S12=2*sym.diff(sef,Cm12)\n",
    "    S13=2*sym.diff(sef,Cm13)\n",
    "    S21=2*sym.diff(sef,Cm21)\n",
    "    S22=2*sym.diff(sef,Cm22)\n",
    "    S23=2*sym.diff(sef,Cm23)\n",
    "    S31=2*sym.diff(sef,Cm31)\n",
    "    S32=2*sym.diff(sef,Cm32)\n",
    "    S33=2*sym.diff(sef,Cm33)\n",
    "    S = sym.Matrix([[S11,S12,S13], [S21,S22,S23], [S31,S32,S33]])\n",
    "    \n",
    "    \n",
    "    T = (1/Jac)*(F*S*Ft) # cauchy stresses with no BCs\n",
    "    T = T - (I*T[2,2]) # imposing of boundary conditions\n",
    "    \n",
    "    T=T.subs([(Cm11, Cmv[0,0]), (Cm12, Cmv[0,1]), \n",
    "                                  (Cm13, Cmv[0,2]),(Cm21, Cmv[1,0]), \n",
    "                                  (Cm22, Cmv[1,1]), (Cm23, Cmv[1,2]),\n",
    "                                  (Cm31, Cmv[2,0]), (Cm32, Cmv[2,1]), \n",
    "                                  (Cm33, Cmv[2,2]),(c,params[0]), \n",
    "                                  (κ,params[1]),(k1,params[2]),(k2,params[3])])\n",
    "    \n",
    "    if load == 'uniaxial':\n",
    "        return stretch, T[1,1]\n",
    "\n",
    "    if load == 'equibiaxial':\n",
    "        return stretch, [T[0,0],T[1,1]]\n",
    "\n",
    "def get_curve(params, stretch_min, stretch_max, ninc, load):\n",
    "    #stores HGO loading runs between a minimum and a maximum stretch\n",
    "    \n",
    "    if load == \"uniaxial\":\n",
    "        lst=[HGO(params, stretch, load) for stretch in np.linspace(stretch_min,stretch_max,ninc)]\n",
    "        return lst\n",
    "    if load == \"equibiaxial\":\n",
    "        lst_xx=[[stretch,HGO(params, stretch, load)[1][0]] for stretch in np.linspace(stretch_min,stretch_max,ninc)]\n",
    "        lst_yy=[[stretch,HGO(params, stretch, load)[1][1]] for stretch in np.linspace(stretch_min,stretch_max,ninc)]\n",
    "        return lst_xx, lst_yy"
   ]
  },
  {
   "cell_type": "code",
   "execution_count": null,
   "id": "3b83e1fc",
   "metadata": {},
   "outputs": [],
   "source": []
  },
  {
   "cell_type": "markdown",
   "id": "3ba38f3b",
   "metadata": {},
   "source": [
    "Let us aplly our function to some examples, first using a \"uniaxial\" load"
   ]
  },
  {
   "cell_type": "code",
   "execution_count": 4,
   "id": "9e051041",
   "metadata": {},
   "outputs": [
    {
     "data": {
      "text/latex": [
       "$\\displaystyle 2.14455419836872$"
      ],
      "text/plain": [
       "2.14455419836872"
      ]
     },
     "execution_count": 4,
     "metadata": {},
     "output_type": "execute_result"
    }
   ],
   "source": [
    "# Example 1\n",
    "# evaluated for unitary parameters. no dispersion\n",
    "\n",
    "c= 1 # pressure units\n",
    "κ = 0.0\n",
    "k1 = 1.0 # pressure units\n",
    "k2 = 1.0\n",
    "#let's test for a simple case: fibers oriented along the pulling direction\n",
    "a01 = [0,1,0]\n",
    "#a01 = [-np.sin(np.deg2rad(90)),np.cos(np.deg2rad(0)),0]\n",
    "\n",
    "\n",
    "params = [c, κ, k1, k2, a01]\n",
    "stretch = 1.2\n",
    "load = \"uniaxial\"\n",
    "\n",
    "[stretch, stress] = HGO(params, stretch, load)\n",
    "\n",
    "stress # in kPa"
   ]
  },
  {
   "cell_type": "code",
   "execution_count": null,
   "id": "99d387ad",
   "metadata": {},
   "outputs": [],
   "source": []
  },
  {
   "cell_type": "code",
   "execution_count": 5,
   "id": "476611b8",
   "metadata": {},
   "outputs": [
    {
     "data": {
      "text/latex": [
       "$\\displaystyle 0$"
      ],
      "text/plain": [
       "0"
      ]
     },
     "execution_count": 5,
     "metadata": {},
     "output_type": "execute_result"
    }
   ],
   "source": [
    "# Example 2\n",
    "#evaluated for unitary parameters. no dispersion\n",
    "\n",
    "c= 0 # pressure units\n",
    "κ = 0.0\n",
    "k1 = 1.0 # pressure units\n",
    "k2 = 1.0\n",
    "#let's test for a simple case: fibers oriented transversal to the pulling direction\n",
    "a01 = [1,0,0]\n",
    "#a01 = [-np.sin(np.deg2rad(90)),np.cos(np.deg2rad(0)),0]\n",
    "\n",
    "\n",
    "params = [c, κ, k1, k2, a01]\n",
    "stretch = 1.2\n",
    "load = \"uniaxial\"\n",
    "\n",
    "[stretch, stress] = HGO(params, stretch, load)\n",
    "\n",
    "stress # in pressure units"
   ]
  },
  {
   "cell_type": "code",
   "execution_count": 6,
   "id": "07e495fd",
   "metadata": {},
   "outputs": [
    {
     "data": {
      "text/latex": [
       "$\\displaystyle 0.621065104548954$"
      ],
      "text/plain": [
       "0.621065104548954"
      ]
     },
     "execution_count": 6,
     "metadata": {},
     "output_type": "execute_result"
    }
   ],
   "source": [
    "# Example 3\n",
    "# κ = 1/3, which means that the material is isotropic, i.e. Neo Hooke material.\n",
    "\n",
    "c= 1 # pressure units\n",
    "κ = 1/3\n",
    "k1 = 1.0 # pressure units\n",
    "k2 = 1.0\n",
    "a01 = [-np.sin(np.deg2rad(65)),np.cos(np.deg2rad(65)),0]\n",
    "#a02 = [np.sin(np.deg2rad(65)),np.cos(np.deg2rad(65)),0]\n",
    "\n",
    "\n",
    "params = [c, κ, k1, k2, a01]\n",
    "stretch = 1.2\n",
    "load = \"uniaxial\"\n",
    "\n",
    "[stretch, stress] = HGO(params, stretch, load)\n",
    "\n",
    "stress  # in pressure units"
   ]
  },
  {
   "cell_type": "code",
   "execution_count": 7,
   "id": "21f02372",
   "metadata": {},
   "outputs": [
    {
     "data": {
      "text/latex": [
       "$\\displaystyle 0.472149517852544$"
      ],
      "text/plain": [
       "0.472149517852544"
      ]
     },
     "execution_count": 7,
     "metadata": {},
     "output_type": "execute_result"
    }
   ],
   "source": [
    "# Example 4\n",
    "# κ = 0.1, arbitrary orientation. \n",
    "\n",
    "\n",
    "c= 1.0 # pressure units\n",
    "κ = 0.1\n",
    "k1 = 1.0 # pressure units\n",
    "k2 = 1.0\n",
    "a01 = [-np.sin(np.deg2rad(65)),np.cos(np.deg2rad(65)),0]\n",
    "#a02 = [np.sin(np.deg2rad(65)),np.cos(np.deg2rad(65)),0]\n",
    "\n",
    "\n",
    "params = [c, κ, k1, k2, a01]\n",
    "stretch = 1.2\n",
    "load = \"uniaxial\"\n",
    "\n",
    "[stretch, stress] = HGO(params, stretch, load)\n",
    "\n",
    "stress  # in pressure units"
   ]
  },
  {
   "cell_type": "code",
   "execution_count": 8,
   "id": "8713b65f",
   "metadata": {},
   "outputs": [
    {
     "data": {
      "text/plain": [
       "[<matplotlib.lines.Line2D at 0x1a69ddc7370>]"
      ]
     },
     "execution_count": 8,
     "metadata": {},
     "output_type": "execute_result"
    },
    {
     "data": {
      "image/png": "[encoded data removed]",
      "text/plain": [
       "<Figure size 432x288 with 1 Axes>"
      ]
     },
     "metadata": {
      "needs_background": "light"
     },
     "output_type": "display_data"
    }
   ],
   "source": [
    "check = np.array(get_curve(params,1,2.0,50,\"uniaxial\"))\n",
    "plt.plot(check[:,0],check[:,1])"
   ]
  },
  {
   "cell_type": "code",
   "execution_count": null,
   "id": "c500ae0c",
   "metadata": {},
   "outputs": [],
   "source": []
  },
  {
   "cell_type": "markdown",
   "id": "519f5623",
   "metadata": {},
   "source": [
    "Now the same examples but using an equibiaxial load"
   ]
  },
  {
   "cell_type": "code",
   "execution_count": 9,
   "id": "81f468c4",
   "metadata": {},
   "outputs": [
    {
     "data": {
      "text/plain": [
       "[0.957746913580247, 2.49563444528230]"
      ]
     },
     "execution_count": 9,
     "metadata": {},
     "output_type": "execute_result"
    }
   ],
   "source": [
    "# Example 1\n",
    "# evaluated for unitary parameters. no dispersion\n",
    "\n",
    "c= 1 # pressure units\n",
    "κ = 0.0\n",
    "k1 = 1.0 # pressure units\n",
    "k2 = 1.0\n",
    "#let's test for a simple case: fibers oriented along the pulling direction\n",
    "a01 = [0,1,0]\n",
    "#a01 = [-np.sin(np.deg2rad(90)),np.cos(np.deg2rad(0)),0]\n",
    "\n",
    "\n",
    "params = [c, κ, k1, k2, a01]\n",
    "stretch = 1.2\n",
    "load = \"equibiaxial\"\n",
    "\n",
    "[stretch, stress] = HGO(params, stretch, load)\n",
    "\n",
    "stress # xx and yy directions, in pressure units"
   ]
  },
  {
   "cell_type": "code",
   "execution_count": 10,
   "id": "02e8f2cb",
   "metadata": {},
   "outputs": [
    {
     "data": {
      "text/plain": [
       "[1.53788753170205, 0]"
      ]
     },
     "execution_count": 10,
     "metadata": {},
     "output_type": "execute_result"
    }
   ],
   "source": [
    "# Example 2\n",
    "#evaluated for unitary parameters. no dispersion\n",
    "\n",
    "c= 0 # pressure units\n",
    "κ = 0.0\n",
    "k1 = 1.0 # pressure units\n",
    "k2 = 1.0\n",
    "#let's test for a simple case: fibers oriented transversal to the pulling direction\n",
    "a01 = [1,0,0]\n",
    "#a01 = [-np.sin(np.deg2rad(90)),np.cos(np.deg2rad(0)),0]\n",
    "\n",
    "\n",
    "params = [c, κ, k1, k2, a01]\n",
    "stretch = 1.2\n",
    "load = \"equibiaxial\"\n",
    "\n",
    "[stretch, stress] = HGO(params, stretch, load)\n",
    "\n",
    "stress # xx and yy directions, in pressure units"
   ]
  },
  {
   "cell_type": "code",
   "execution_count": 11,
   "id": "e0379227",
   "metadata": {},
   "outputs": [
    {
     "data": {
      "text/plain": [
       "[1.03597860272550, 1.03597860272550]"
      ]
     },
     "execution_count": 11,
     "metadata": {},
     "output_type": "execute_result"
    }
   ],
   "source": [
    "# Example 3\n",
    "# κ = 1/3, which means that the material is isotropic, i.e. Neo Hooke material.\n",
    "\n",
    "c= 1 # pressure units\n",
    "κ = 1/3\n",
    "k1 = 1.0 # pressure units\n",
    "k2 = 1.0\n",
    "a01 = [-np.sin(np.deg2rad(65)),np.cos(np.deg2rad(65)),0]\n",
    "#a02 = [np.sin(np.deg2rad(65)),np.cos(np.deg2rad(65)),0]\n",
    "\n",
    "\n",
    "params = [c, κ, k1, k2, a01]\n",
    "stretch = 1.2\n",
    "load = \"equibiaxial\"\n",
    "\n",
    "[stretch, stress] = HGO(params, stretch, load)\n",
    "\n",
    "stress # xx and yy directions, in pressure units"
   ]
  },
  {
   "cell_type": "code",
   "execution_count": 12,
   "id": "98ba9491",
   "metadata": {},
   "outputs": [
    {
     "data": {
      "text/plain": [
       "[1.67369641725395, 1.17151476945852]"
      ]
     },
     "execution_count": 12,
     "metadata": {},
     "output_type": "execute_result"
    }
   ],
   "source": [
    "# Example 4\n",
    "# κ = 0.1, arbitrary orientation. \n",
    "\n",
    "\n",
    "c= 1.0 # pressure units\n",
    "κ = 0.1\n",
    "k1 = 1.0 # pressure units\n",
    "k2 = 1.0\n",
    "a01 = [-np.sin(np.deg2rad(65)),np.cos(np.deg2rad(65)),0]\n",
    "#a02 = [np.sin(np.deg2rad(65)),np.cos(np.deg2rad(65)),0]\n",
    "\n",
    "\n",
    "params = [c, κ, k1, k2, a01]\n",
    "stretch = 1.2\n",
    "load = \"equibiaxial\"\n",
    "\n",
    "[stretch, stress] = HGO(params, stretch, load)\n",
    "\n",
    "stress # xx and yy directions, in pressure units"
   ]
  },
  {
   "cell_type": "code",
   "execution_count": 13,
   "id": "2588b100",
   "metadata": {},
   "outputs": [],
   "source": [
    "[check_xx,check_yy] = np.array(get_curve(params,1,2.0,50,\"equibiaxial\"))"
   ]
  },
  {
   "cell_type": "code",
   "execution_count": 14,
   "id": "7f896dcb",
   "metadata": {},
   "outputs": [
    {
     "data": {
      "text/plain": [
       "[<matplotlib.lines.Line2D at 0x1a69e7ad4c0>]"
      ]
     },
     "execution_count": 14,
     "metadata": {},
     "output_type": "execute_result"
    },
    {
     "data": {
      "image/png": "[encoded data removed]",
      "text/plain": [
       "<Figure size 432x288 with 1 Axes>"
      ]
     },
     "metadata": {
      "needs_background": "light"
     },
     "output_type": "display_data"
    }
   ],
   "source": [
    "plt.plot(check_xx[:,0],check_xx[:,1])"
   ]
  },
  {
   "cell_type": "code",
   "execution_count": 15,
   "id": "c4311d1c",
   "metadata": {},
   "outputs": [
    {
     "data": {
      "text/plain": [
       "[<matplotlib.lines.Line2D at 0x1a69e8537c0>]"
      ]
     },
     "execution_count": 15,
     "metadata": {},
     "output_type": "execute_result"
    },
    {
     "data": {
      "image/png": "[encoded data removed]",
      "text/plain": [
       "<Figure size 432x288 with 1 Axes>"
      ]
     },
     "metadata": {
      "needs_background": "light"
     },
     "output_type": "display_data"
    }
   ],
   "source": [
    "plt.plot(check_yy[:,0],check_yy[:,1])"
   ]
  },
  {
   "cell_type": "code",
   "execution_count": null,
   "id": "23cc04c8",
   "metadata": {},
   "outputs": [],
   "source": []
  },
  {
   "cell_type": "markdown",
   "id": "dc28b3f2",
   "metadata": {},
   "source": [
    "Now we will generate several of these curves"
   ]
  },
  {
   "cell_type": "code",
   "execution_count": 34,
   "id": "0f3cacdc",
   "metadata": {},
   "outputs": [],
   "source": [
    "#Initial data-----------------------------------------------------------------------------------------------------\n",
    "\n",
    "c_min = 1.0\n",
    "c_max = 40.0\n",
    "n_c = 1\n",
    "\n",
    "κ_min = 0.0\n",
    "κ_max = 1/3\n",
    "n_κ = 2\n",
    "\n",
    "k1_min = 0.1\n",
    "k1_max = 5.0\n",
    "n_k1 = 1\n",
    "\n",
    "k2_min = 0.1\n",
    "k2_max = 5.0\n",
    "n_k2 = 2\n",
    "\n",
    "theta_min = 0 # in degrees\n",
    "theta_max = 90 # in degrees\n",
    "n_theta = 1\n",
    "\n",
    "decimals=2   #number of decimal cases for each parameter value\n",
    "\n",
    "n = n_c * n_κ * n_k1 * n_k2 * n_theta # total combinations\n",
    "\n",
    "st_max=2.5            #applied stretch\n",
    "st_min=1.0\n",
    "ninc=20        #number of stretch increments\n",
    "#------------------------------------------------------------------------------------------------------------------"
   ]
  },
  {
   "cell_type": "code",
   "execution_count": 17,
   "id": "e7b1c0b7",
   "metadata": {},
   "outputs": [],
   "source": [
    "c_list = np.round(np.random.uniform(c_min, c_max, size = n_c), decimals)\n",
    "\n",
    "κ_list = np.round(np.random.uniform(κ_min, κ_max, size=n_κ), decimals)\n",
    "\n",
    "k1_list = np.round(np.random.uniform(k1_min, k1_max, size=n_k1), decimals)\n",
    "\n",
    "k2_list = np.round(np.random.uniform(k2_min, k2_max, size=n_k2), decimals)\n",
    "\n",
    "theta_list = np.round(np.random.uniform(theta_min, theta_max, size=n_theta), decimals)\n",
    "\n",
    "def theta_to_a01(theta):\n",
    "    #defines a unit vector in the xy plane, theta degrees from the yy axis\n",
    "    return [-np.sin(np.deg2rad(theta)),np.cos(np.deg2rad(theta)),0]\n",
    "\n",
    "a01_list = [theta_to_a01(theta) for theta in theta_list]"
   ]
  },
  {
   "cell_type": "code",
   "execution_count": 18,
   "id": "9fd997ea",
   "metadata": {},
   "outputs": [],
   "source": [
    "# Computes the n combinations of params\n",
    "\n",
    "params = []\n",
    "\n",
    "for i in c_list:\n",
    "    for j in κ_list:\n",
    "        for k in k1_list:\n",
    "            for l in k2_list:\n",
    "                for m in a01_list:\n",
    "                    params.append([i,j,k,l,m])\n",
    "\n",
    "params = np.array(params, dtype = object)\n",
    "params = params.reshape(-1, 5)"
   ]
  },
  {
   "cell_type": "code",
   "execution_count": 19,
   "id": "b670f6f6",
   "metadata": {},
   "outputs": [
    {
     "data": {
      "text/html": [
       "<div>\n",
       "<style scoped>\n",
       "    .dataframe tbody tr th:only-of-type {\n",
       "        vertical-align: middle;\n",
       "    }\n",
       "\n",
       "    .dataframe tbody tr th {\n",
       "        vertical-align: top;\n",
       "    }\n",
       "\n",
       "    .dataframe thead th {\n",
       "        text-align: right;\n",
       "    }\n",
       "</style>\n",
       "<table border=\"1\" class=\"dataframe\">\n",
       "  <thead>\n",
       "    <tr style=\"text-align: right;\">\n",
       "      <th></th>\n",
       "      <th>c</th>\n",
       "      <th>κ</th>\n",
       "      <th>k1</th>\n",
       "      <th>k2</th>\n",
       "      <th>a01</th>\n",
       "    </tr>\n",
       "  </thead>\n",
       "  <tbody>\n",
       "    <tr>\n",
       "      <th>0</th>\n",
       "      <td>14.03</td>\n",
       "      <td>0.11</td>\n",
       "      <td>0.58</td>\n",
       "      <td>0.1</td>\n",
       "      <td>[-0.9498629681973204, 0.31266650227898785, 0]</td>\n",
       "    </tr>\n",
       "    <tr>\n",
       "      <th>1</th>\n",
       "      <td>14.03</td>\n",
       "      <td>0.11</td>\n",
       "      <td>0.58</td>\n",
       "      <td>4.77</td>\n",
       "      <td>[-0.9498629681973204, 0.31266650227898785, 0]</td>\n",
       "    </tr>\n",
       "    <tr>\n",
       "      <th>2</th>\n",
       "      <td>14.03</td>\n",
       "      <td>0.15</td>\n",
       "      <td>0.58</td>\n",
       "      <td>0.1</td>\n",
       "      <td>[-0.9498629681973204, 0.31266650227898785, 0]</td>\n",
       "    </tr>\n",
       "    <tr>\n",
       "      <th>3</th>\n",
       "      <td>14.03</td>\n",
       "      <td>0.15</td>\n",
       "      <td>0.58</td>\n",
       "      <td>4.77</td>\n",
       "      <td>[-0.9498629681973204, 0.31266650227898785, 0]</td>\n",
       "    </tr>\n",
       "  </tbody>\n",
       "</table>\n",
       "</div>"
      ],
      "text/plain": [
       "       c     κ    k1    k2                                            a01\n",
       "0  14.03  0.11  0.58   0.1  [-0.9498629681973204, 0.31266650227898785, 0]\n",
       "1  14.03  0.11  0.58  4.77  [-0.9498629681973204, 0.31266650227898785, 0]\n",
       "2  14.03  0.15  0.58   0.1  [-0.9498629681973204, 0.31266650227898785, 0]\n",
       "3  14.03  0.15  0.58  4.77  [-0.9498629681973204, 0.31266650227898785, 0]"
      ]
     },
     "execution_count": 19,
     "metadata": {},
     "output_type": "execute_result"
    }
   ],
   "source": [
    "# Append the combinations to a DataFrame\n",
    "\n",
    "df = pd.DataFrame(params[:,0], columns = ['c'])\n",
    "df['κ'] = params[:,1]\n",
    "df['k1'] = params[:,2]\n",
    "df['k2'] = params[:,3]\n",
    "df['a01'] = params[:,4]\n",
    "\n",
    "df\n",
    "\n",
    "# It would be nice to add a theta column. In the next version I will implement this."
   ]
  },
  {
   "cell_type": "code",
   "execution_count": null,
   "id": "8e0f3d00",
   "metadata": {},
   "outputs": [],
   "source": []
  },
  {
   "cell_type": "code",
   "execution_count": 35,
   "id": "ebe9e4ee",
   "metadata": {},
   "outputs": [
    {
     "data": {
      "text/html": [
       "<div>\n",
       "<style scoped>\n",
       "    .dataframe tbody tr th:only-of-type {\n",
       "        vertical-align: middle;\n",
       "    }\n",
       "\n",
       "    .dataframe tbody tr th {\n",
       "        vertical-align: top;\n",
       "    }\n",
       "\n",
       "    .dataframe thead th {\n",
       "        text-align: right;\n",
       "    }\n",
       "</style>\n",
       "<table border=\"1\" class=\"dataframe\">\n",
       "  <thead>\n",
       "    <tr style=\"text-align: right;\">\n",
       "      <th></th>\n",
       "      <th>c</th>\n",
       "      <th>κ</th>\n",
       "      <th>k1</th>\n",
       "      <th>k2</th>\n",
       "      <th>a01</th>\n",
       "      <th>data</th>\n",
       "    </tr>\n",
       "  </thead>\n",
       "  <tbody>\n",
       "    <tr>\n",
       "      <th>0</th>\n",
       "      <td>14.03</td>\n",
       "      <td>0.11</td>\n",
       "      <td>0.58</td>\n",
       "      <td>0.1</td>\n",
       "      <td>[-0.9498629681973204, 0.31266650227898785, 0]</td>\n",
       "      <td>[(1.0, 0), (1.0789473684210527, 3.308142088388...</td>\n",
       "    </tr>\n",
       "    <tr>\n",
       "      <th>1</th>\n",
       "      <td>14.03</td>\n",
       "      <td>0.11</td>\n",
       "      <td>0.58</td>\n",
       "      <td>4.77</td>\n",
       "      <td>[-0.9498629681973204, 0.31266650227898785, 0]</td>\n",
       "      <td>[(1.0, 0), (1.0789473684210527, 3.159288343459...</td>\n",
       "    </tr>\n",
       "    <tr>\n",
       "      <th>2</th>\n",
       "      <td>14.03</td>\n",
       "      <td>0.15</td>\n",
       "      <td>0.58</td>\n",
       "      <td>0.1</td>\n",
       "      <td>[-0.9498629681973204, 0.31266650227898785, 0]</td>\n",
       "      <td>[(1.0, 0), (1.0789473684210527, 3.306006590866...</td>\n",
       "    </tr>\n",
       "    <tr>\n",
       "      <th>3</th>\n",
       "      <td>14.03</td>\n",
       "      <td>0.15</td>\n",
       "      <td>0.58</td>\n",
       "      <td>4.77</td>\n",
       "      <td>[-0.9498629681973204, 0.31266650227898785, 0]</td>\n",
       "      <td>[(1.0, 0), (1.0789473684210527, 3.234955657533...</td>\n",
       "    </tr>\n",
       "  </tbody>\n",
       "</table>\n",
       "</div>"
      ],
      "text/plain": [
       "       c     κ    k1    k2                                            a01  \\\n",
       "0  14.03  0.11  0.58   0.1  [-0.9498629681973204, 0.31266650227898785, 0]   \n",
       "1  14.03  0.11  0.58  4.77  [-0.9498629681973204, 0.31266650227898785, 0]   \n",
       "2  14.03  0.15  0.58   0.1  [-0.9498629681973204, 0.31266650227898785, 0]   \n",
       "3  14.03  0.15  0.58  4.77  [-0.9498629681973204, 0.31266650227898785, 0]   \n",
       "\n",
       "                                                data  \n",
       "0  [(1.0, 0), (1.0789473684210527, 3.308142088388...  \n",
       "1  [(1.0, 0), (1.0789473684210527, 3.159288343459...  \n",
       "2  [(1.0, 0), (1.0789473684210527, 3.306006590866...  \n",
       "3  [(1.0, 0), (1.0789473684210527, 3.234955657533...  "
      ]
     },
     "execution_count": 35,
     "metadata": {},
     "output_type": "execute_result"
    }
   ],
   "source": [
    "#generate (x,y) data for each unique combination of params at the dataframe, for a uniaxial load\n",
    "load = \"uniaxial\"\n",
    "\n",
    "df_uniaxial = df.copy()\n",
    "df_uniaxial['data']=df.apply(lambda x : get_curve(x,st_min,st_max,ninc, load), axis=1)\n",
    "df_uniaxial"
   ]
  },
  {
   "cell_type": "code",
   "execution_count": 36,
   "id": "44056d27",
   "metadata": {},
   "outputs": [
    {
     "data": {
      "text/plain": [
       "[<matplotlib.lines.Line2D at 0x1a69ec344f0>]"
      ]
     },
     "execution_count": 36,
     "metadata": {},
     "output_type": "execute_result"
    },
    {
     "data": {
      "image/png": "[encoded data removed]",
      "text/plain": [
       "<Figure size 432x288 with 1 Axes>"
      ]
     },
     "metadata": {
      "needs_background": "light"
     },
     "output_type": "display_data"
    }
   ],
   "source": [
    "k = 0   #plot the curve number k\n",
    "\n",
    "example = np.array(df_uniaxial.data[k])\n",
    "plt.plot(example[:,0], example[:, 1])"
   ]
  },
  {
   "cell_type": "code",
   "execution_count": null,
   "id": "76772053",
   "metadata": {},
   "outputs": [],
   "source": []
  },
  {
   "cell_type": "code",
   "execution_count": 37,
   "id": "1e090578",
   "metadata": {},
   "outputs": [
    {
     "data": {
      "text/html": [
       "<div>\n",
       "<style scoped>\n",
       "    .dataframe tbody tr th:only-of-type {\n",
       "        vertical-align: middle;\n",
       "    }\n",
       "\n",
       "    .dataframe tbody tr th {\n",
       "        vertical-align: top;\n",
       "    }\n",
       "\n",
       "    .dataframe thead th {\n",
       "        text-align: right;\n",
       "    }\n",
       "</style>\n",
       "<table border=\"1\" class=\"dataframe\">\n",
       "  <thead>\n",
       "    <tr style=\"text-align: right;\">\n",
       "      <th></th>\n",
       "      <th>c</th>\n",
       "      <th>κ</th>\n",
       "      <th>k1</th>\n",
       "      <th>k2</th>\n",
       "      <th>a01</th>\n",
       "      <th>data_xx</th>\n",
       "      <th>data_yy</th>\n",
       "    </tr>\n",
       "  </thead>\n",
       "  <tbody>\n",
       "    <tr>\n",
       "      <th>0</th>\n",
       "      <td>14.03</td>\n",
       "      <td>0.11</td>\n",
       "      <td>0.58</td>\n",
       "      <td>0.1</td>\n",
       "      <td>[-0.9498629681973204, 0.31266650227898785, 0]</td>\n",
       "      <td>[[1.0, 0], [1.0789473684210527, 6.082159417369...</td>\n",
       "      <td>[[1.0, 0], [1.0789473684210527, 5.996705711898...</td>\n",
       "    </tr>\n",
       "    <tr>\n",
       "      <th>1</th>\n",
       "      <td>14.03</td>\n",
       "      <td>0.11</td>\n",
       "      <td>0.58</td>\n",
       "      <td>4.77</td>\n",
       "      <td>[-0.9498629681973204, 0.31266650227898785, 0]</td>\n",
       "      <td>[[1.0, 0], [1.0789473684210527, 6.088936640233...</td>\n",
       "      <td>[[1.0, 0], [1.0789473684210527, 5.997817501091...</td>\n",
       "    </tr>\n",
       "    <tr>\n",
       "      <th>2</th>\n",
       "      <td>14.03</td>\n",
       "      <td>0.15</td>\n",
       "      <td>0.58</td>\n",
       "      <td>0.1</td>\n",
       "      <td>[-0.9498629681973204, 0.31266650227898785, 0]</td>\n",
       "      <td>[[1.0, 0], [1.0789473684210527, 6.054582109801...</td>\n",
       "      <td>[[1.0, 0], [1.0789473684210527, 5.994656510438...</td>\n",
       "    </tr>\n",
       "    <tr>\n",
       "      <th>3</th>\n",
       "      <td>14.03</td>\n",
       "      <td>0.15</td>\n",
       "      <td>0.58</td>\n",
       "      <td>4.77</td>\n",
       "      <td>[-0.9498629681973204, 0.31266650227898785, 0]</td>\n",
       "      <td>[[1.0, 0], [1.0789473684210527, 6.058164916374...</td>\n",
       "      <td>[[1.0, 0], [1.0789473684210527, 5.995363046123...</td>\n",
       "    </tr>\n",
       "  </tbody>\n",
       "</table>\n",
       "</div>"
      ],
      "text/plain": [
       "       c     κ    k1    k2                                            a01  \\\n",
       "0  14.03  0.11  0.58   0.1  [-0.9498629681973204, 0.31266650227898785, 0]   \n",
       "1  14.03  0.11  0.58  4.77  [-0.9498629681973204, 0.31266650227898785, 0]   \n",
       "2  14.03  0.15  0.58   0.1  [-0.9498629681973204, 0.31266650227898785, 0]   \n",
       "3  14.03  0.15  0.58  4.77  [-0.9498629681973204, 0.31266650227898785, 0]   \n",
       "\n",
       "                                             data_xx  \\\n",
       "0  [[1.0, 0], [1.0789473684210527, 6.082159417369...   \n",
       "1  [[1.0, 0], [1.0789473684210527, 6.088936640233...   \n",
       "2  [[1.0, 0], [1.0789473684210527, 6.054582109801...   \n",
       "3  [[1.0, 0], [1.0789473684210527, 6.058164916374...   \n",
       "\n",
       "                                             data_yy  \n",
       "0  [[1.0, 0], [1.0789473684210527, 5.996705711898...  \n",
       "1  [[1.0, 0], [1.0789473684210527, 5.997817501091...  \n",
       "2  [[1.0, 0], [1.0789473684210527, 5.994656510438...  \n",
       "3  [[1.0, 0], [1.0789473684210527, 5.995363046123...  "
      ]
     },
     "execution_count": 37,
     "metadata": {},
     "output_type": "execute_result"
    }
   ],
   "source": [
    "#generate (x,y) data for each unique combination of params at the dataframe, for a equibiaxial load\n",
    "# There is stress in the xx or yy directions.\n",
    "load = \"equibiaxial\"\n",
    "\n",
    "df_equibiaxial = df.copy()\n",
    "df_equibiaxial['data_xx']=df.apply(lambda x : get_curve(x,st_min,st_max,ninc, load)[0], axis=1)\n",
    "df_equibiaxial['data_yy']=df.apply(lambda x : get_curve(x,st_min,st_max,ninc, load)[1], axis=1)\n",
    "df_equibiaxial\n",
    "\n",
    "# this doesn't seem to be very efficient, because we are applying the lambda function two times, and getting only the data\n",
    "# from the xx or yy directions in each run. I've tried to get both directions from the same run of the lambda function\n",
    "# but without success yet."
   ]
  },
  {
   "cell_type": "code",
   "execution_count": null,
   "id": "5931f06c",
   "metadata": {},
   "outputs": [],
   "source": []
  },
  {
   "cell_type": "code",
   "execution_count": 38,
   "id": "6f36b2c6",
   "metadata": {},
   "outputs": [],
   "source": [
    "k = 0   #plot the curve number k"
   ]
  },
  {
   "cell_type": "code",
   "execution_count": 39,
   "id": "4edac272",
   "metadata": {},
   "outputs": [
    {
     "data": {
      "text/plain": [
       "[<matplotlib.lines.Line2D at 0x1a69ecd7cd0>]"
      ]
     },
     "execution_count": 39,
     "metadata": {},
     "output_type": "execute_result"
    },
    {
     "data": {
      "image/png": "[encoded data removed]",
      "text/plain": [
       "<Figure size 432x288 with 1 Axes>"
      ]
     },
     "metadata": {
      "needs_background": "light"
     },
     "output_type": "display_data"
    }
   ],
   "source": [
    "# xx direction\n",
    "example = np.array(df_equibiaxial.data_xx[k])\n",
    "plt.plot(example[:,0], example[:, 1])"
   ]
  },
  {
   "cell_type": "code",
   "execution_count": 40,
   "id": "cd64f263",
   "metadata": {},
   "outputs": [
    {
     "data": {
      "text/plain": [
       "[<matplotlib.lines.Line2D at 0x1a69ed958b0>]"
      ]
     },
     "execution_count": 40,
     "metadata": {},
     "output_type": "execute_result"
    },
    {
     "data": {
      "image/png": "[encoded data removed]",
      "text/plain": [
       "<Figure size 432x288 with 1 Axes>"
      ]
     },
     "metadata": {
      "needs_background": "light"
     },
     "output_type": "display_data"
    }
   ],
   "source": [
    "# yy direction\n",
    "example = np.array(df_equibiaxial.data_yy[k])\n",
    "plt.plot(example[:,0], example[:, 1])"
   ]
  }
 ],
 "metadata": {
  "kernelspec": {
   "display_name": "Python 3",
   "language": "python",
   "name": "python3"
  },
  "language_info": {
   "codemirror_mode": {
    "name": "ipython",
    "version": 3
   },
   "file_extension": ".py",
   "mimetype": "text/x-python",
   "name": "python",
   "nbconvert_exporter": "python",
   "pygments_lexer": "ipython3",
   "version": "3.9.5"
  }
 },
 "nbformat": 4,
 "nbformat_minor": 5
}
