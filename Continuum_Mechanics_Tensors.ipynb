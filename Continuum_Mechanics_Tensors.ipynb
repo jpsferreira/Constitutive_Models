{
 "cells": [
  {
   "cell_type": "code",
   "execution_count": 1,
   "id": "cadf1267",
   "metadata": {},
   "outputs": [],
   "source": [
    "# Would still like to implement Polar decompositions of F"
   ]
  },
  {
   "cell_type": "code",
   "execution_count": null,
   "id": "10f9ebb3",
   "metadata": {},
   "outputs": [],
   "source": []
  },
  {
   "cell_type": "code",
   "execution_count": 23,
   "id": "fb9fae42",
   "metadata": {},
   "outputs": [],
   "source": [
    "import sympy as sym"
   ]
  },
  {
   "cell_type": "code",
   "execution_count": 2,
   "id": "085f94dd",
   "metadata": {},
   "outputs": [
    {
     "data": {
      "text/latex": [
       "$\\displaystyle \\left[\\begin{matrix}1 & 0 & 0\\\\0 & 1 & 0\\\\0 & 0 & 1\\end{matrix}\\right]$"
      ],
      "text/plain": [
       "Matrix([\n",
       "[1, 0, 0],\n",
       "[0, 1, 0],\n",
       "[0, 0, 1]])"
      ]
     },
     "execution_count": 2,
     "metadata": {},
     "output_type": "execute_result"
    }
   ],
   "source": [
    "I = sym.Matrix([[1,0,0],[0,1,0],[0,0,1]])\n",
    "I"
   ]
  },
  {
   "cell_type": "code",
   "execution_count": 3,
   "id": "dd90e724",
   "metadata": {},
   "outputs": [],
   "source": [
    "# Time variable. The components of F can depend on time.\n",
    "t = sym.Symbol('t')"
   ]
  },
  {
   "cell_type": "code",
   "execution_count": 4,
   "id": "5a54d204",
   "metadata": {},
   "outputs": [],
   "source": [
    "# Deformation Gradient F\n",
    "F11 = sym.Symbol('F11') \n",
    "F12 = sym.Symbol('F12')\n",
    "F13 = sym.Symbol('F13')\n",
    "F21 = sym.Symbol('F21')\n",
    "F22 = sym.Symbol('F22')\n",
    "F23 = sym.Symbol('F23')\n",
    "F31 = sym.Symbol('F31')\n",
    "F32 = sym.Symbol('F32')\n",
    "F33 = sym.Symbol('F33')\n",
    "F = sym.Matrix([[F11,F12,F13], [F21,F22,F23], [F31,F32,F33]])"
   ]
  },
  {
   "cell_type": "code",
   "execution_count": 5,
   "id": "b5c86ffd",
   "metadata": {},
   "outputs": [],
   "source": [
    "# Transpose of F, inverse of F and inverse of Ft\n",
    "Ft = sym.transpose(F)\n",
    "F_inv = F.inv()\n",
    "Ft_inv = Ft.inv()\n",
    "\n",
    "# Invariants of F\n",
    "\n",
    "i1=sym.trace(F)\n",
    "i2 = F[0,0]*F[1,1] + F[1,1]*F[2,2] + F[2,2]*F[0,0] - F[0,1]**2 - F[1,2]**2 - F[2,0]**2\n",
    "i3 = sym.det(F)\n",
    "Jac = i3\n",
    "\n",
    "# Right Cauchy-Green Deformation Tensor C\n",
    "C = F*Ft\n",
    "\n",
    "# Invariants of F\n",
    "\n",
    "i1=sym.trace(F)\n",
    "i2 = F[0,0]*F[1,1] + F[1,1]*F[2,2] + F[2,2]*F[0,0] - F[0,1]**2 - F[1,2]**2 - F[2,0]**2\n",
    "i3 = sym.det(F)\n",
    "\n",
    "# Left Cauchy-Green Deformation Tensor B\n",
    "B = F*Ft\n",
    "\n",
    "# Invariants of F\n",
    "\n",
    "i1=sym.trace(F)\n",
    "i2 = F[0,0]*F[1,1] + F[1,1]*F[2,2] + F[2,2]*F[0,0] - F[0,1]**2 - F[1,2]**2 - F[2,0]**2\n",
    "i3 = sym.det(F)\n"
   ]
  },
  {
   "cell_type": "code",
   "execution_count": 6,
   "id": "b6e40fb0",
   "metadata": {},
   "outputs": [],
   "source": [
    "# Polar Decomposition: F = R*U"
   ]
  },
  {
   "cell_type": "code",
   "execution_count": 7,
   "id": "2957b528",
   "metadata": {},
   "outputs": [],
   "source": [
    "# Polar Decomposition: F = V*R"
   ]
  },
  {
   "cell_type": "code",
   "execution_count": 8,
   "id": "32a17091",
   "metadata": {},
   "outputs": [],
   "source": [
    "# Small Strains Tensor eps\n",
    "\n",
    "eps = 0.5*(F + Ft) - I"
   ]
  },
  {
   "cell_type": "code",
   "execution_count": 9,
   "id": "d7fd44e3",
   "metadata": {},
   "outputs": [],
   "source": [
    "# Green Strain Tensor E\n",
    "\n",
    "E = 0.5*(Ft*F - I)"
   ]
  },
  {
   "cell_type": "code",
   "execution_count": 10,
   "id": "26e340b1",
   "metadata": {},
   "outputs": [],
   "source": [
    "# Alamansi Strain Tensor e\n",
    "\n",
    "e = 0.5*(I - Ft_inv*F_inv)"
   ]
  },
  {
   "cell_type": "code",
   "execution_count": 11,
   "id": "aae5631f",
   "metadata": {
    "scrolled": true
   },
   "outputs": [],
   "source": [
    "# Green Strain Tensor Hydrostatic\n",
    "\n",
    "E_hyd = I * (1/3) * sym.trace(E)"
   ]
  },
  {
   "cell_type": "code",
   "execution_count": 12,
   "id": "3e993c25",
   "metadata": {},
   "outputs": [
    {
     "data": {
      "text/latex": [
       "$\\displaystyle 5.55111512312578 \\cdot 10^{-17} F_{11}^{2} + 5.55111512312578 \\cdot 10^{-17} F_{12}^{2} + 5.55111512312578 \\cdot 10^{-17} F_{13}^{2} + 5.55111512312578 \\cdot 10^{-17} F_{21}^{2} + 5.55111512312578 \\cdot 10^{-17} F_{22}^{2} + 5.55111512312578 \\cdot 10^{-17} F_{23}^{2} + 5.55111512312578 \\cdot 10^{-17} F_{31}^{2} + 5.55111512312578 \\cdot 10^{-17} F_{32}^{2} + 5.55111512312578 \\cdot 10^{-17} F_{33}^{2}$"
      ],
      "text/plain": [
       "5.55111512312578e-17*F11**2 + 5.55111512312578e-17*F12**2 + 5.55111512312578e-17*F13**2 + 5.55111512312578e-17*F21**2 + 5.55111512312578e-17*F22**2 + 5.55111512312578e-17*F23**2 + 5.55111512312578e-17*F31**2 + 5.55111512312578e-17*F32**2 + 5.55111512312578e-17*F33**2"
      ]
     },
     "execution_count": 12,
     "metadata": {},
     "output_type": "execute_result"
    }
   ],
   "source": [
    "# Green Strain Tensor Deviatoric\n",
    "\n",
    "E_dev = E - E_hyd\n",
    "sym.trace(E_dev) #       =~0"
   ]
  },
  {
   "cell_type": "code",
   "execution_count": 13,
   "id": "166fc1a4",
   "metadata": {},
   "outputs": [],
   "source": [
    "# Derivative of F with respect to time F_dot (dv/dX, where d/dX is the partial derivative with respect to current coordinates)\n",
    "\n",
    "# Let F be a function of time 't'\n",
    "\n",
    "F_dot11=2*sym.diff(F[0,0],t)\n",
    "F_dot12=2*sym.diff(F12,t)\n",
    "F_dot13=2*sym.diff(F13,t)\n",
    "F_dot21=2*sym.diff(F21,t)\n",
    "F_dot22=2*sym.diff(F22,t)\n",
    "F_dot23=2*sym.diff(F23,t)\n",
    "F_dot31=2*sym.diff(F31,t)\n",
    "F_dot32=2*sym.diff(F32,t)\n",
    "F_dot33=2*sym.diff(F33,t)\n",
    "F_dot = sym.Matrix([[F_dot11,F_dot12,F_dot13], [F_dot21,F_dot22,F_dot23], [F_dot31,F_dot32,F_dot33]])"
   ]
  },
  {
   "cell_type": "code",
   "execution_count": 14,
   "id": "0ca13412",
   "metadata": {},
   "outputs": [],
   "source": [
    "# Derivative of E with respect to time E_dot\n",
    "\n",
    "E_dot = 0.5*(Ft*F_dot + sym.transpose(F_dot)*F)"
   ]
  },
  {
   "cell_type": "code",
   "execution_count": 15,
   "id": "3f9aa14e",
   "metadata": {},
   "outputs": [],
   "source": [
    "# Velocity Gradient l (dv/dx where d/dX is the partial derivative with respect to reference coordinates)\n",
    "\n",
    "L = F_dot * F_inv\n",
    "Lt = sym.transpose(L)"
   ]
  },
  {
   "cell_type": "code",
   "execution_count": 16,
   "id": "a6a5d077",
   "metadata": {},
   "outputs": [],
   "source": [
    "# Deformation Rate Tensor D\n",
    "\n",
    "D = 0.5*(L + Lt)"
   ]
  },
  {
   "cell_type": "code",
   "execution_count": 17,
   "id": "cdca7c96",
   "metadata": {},
   "outputs": [],
   "source": [
    "# Spin Tensor W\n",
    "W = 0.5*(L - Lt)"
   ]
  },
  {
   "cell_type": "code",
   "execution_count": null,
   "id": "548de089",
   "metadata": {},
   "outputs": [],
   "source": []
  },
  {
   "cell_type": "code",
   "execution_count": 18,
   "id": "f794527f",
   "metadata": {},
   "outputs": [],
   "source": [
    "# True Stress or Cauchy Stress Tensor T\n",
    "T11 = sym.Symbol('T11') \n",
    "T12 = sym.Symbol('T12')\n",
    "T13 = sym.Symbol('T13')\n",
    "T21 = sym.Symbol('T21')\n",
    "T22 = sym.Symbol('T22')\n",
    "T23 = sym.Symbol('T23')\n",
    "T31 = sym.Symbol('T31')\n",
    "T32 = sym.Symbol('T32')\n",
    "T33 = sym.Symbol('T33')\n",
    "T = sym.Matrix([[T11,T12,T13], [T21,T22,T23], [T31,T32,T33]])"
   ]
  },
  {
   "cell_type": "code",
   "execution_count": 19,
   "id": "44774969",
   "metadata": {},
   "outputs": [],
   "source": [
    "# First Piola-KircHhoff Stress Tensor P\n",
    "\n",
    "P = Jac*T*Ft_inv"
   ]
  },
  {
   "cell_type": "code",
   "execution_count": 20,
   "id": "57e162b8",
   "metadata": {},
   "outputs": [],
   "source": [
    "# Second Piola-KircHhoff Stress Tensor S\n",
    "\n",
    "S = Jac*F_inv*T*Ft_inv"
   ]
  },
  {
   "cell_type": "code",
   "execution_count": 21,
   "id": "ad9ee9ff",
   "metadata": {},
   "outputs": [],
   "source": [
    "# Alternatively, if we have S and F and want to find T, as is the case in the Neo-Hooke and Mooney-Rivlin models:\n",
    "\n",
    "S11 = sym.Symbol('S11') \n",
    "S12 = sym.Symbol('S12')\n",
    "S13 = sym.Symbol('S13')\n",
    "S21 = sym.Symbol('S21')\n",
    "S22 = sym.Symbol('S22')\n",
    "S23 = sym.Symbol('S23')\n",
    "S31 = sym.Symbol('S31')\n",
    "S32 = sym.Symbol('S32')\n",
    "S33 = sym.Symbol('S33')\n",
    "S = sym.Matrix([[S11,S12,S13], [S21,S22,S23], [S31,S32,S33]])\n",
    "\n",
    "T=(1/Jac)*(F*S*Ft)"
   ]
  }
 ],
 "metadata": {
  "kernelspec": {
   "display_name": "Python 3",
   "language": "python",
   "name": "python3"
  },
  "language_info": {
   "codemirror_mode": {
    "name": "ipython",
    "version": 3
   },
   "file_extension": ".py",
   "mimetype": "text/x-python",
   "name": "python",
   "nbconvert_exporter": "python",
   "pygments_lexer": "ipython3",
   "version": "3.9.5"
  }
 },
 "nbformat": 4,
 "nbformat_minor": 5
}
